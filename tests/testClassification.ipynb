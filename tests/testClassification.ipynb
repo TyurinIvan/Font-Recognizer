{
  "cells": [
    {
      "cell_type": "markdown",
      "metadata": {
        "id": "F8wVIG0rQV5n"
      },
      "source": [
        "Импор необходимых библиоттек."
      ]
    },
    {
      "cell_type": "code",
      "execution_count": null,
      "metadata": {
        "id": "n4xV3oKZk2Vy"
      },
      "outputs": [],
      "source": [
        "from tensorflow import keras\n",
        "import numpy as np\n",
        "import tensorflow as tf\n",
        "from tensorflow import keras\n",
        "import os\n",
        "from google.colab.patches import cv2_imshow\n",
        "import cv2"
      ]
    },
    {
      "cell_type": "markdown",
      "metadata": {
        "id": "QPFN7x6cKMBs"
      },
      "source": [
        "Две функции - создание модели и предсказание по изображению.\n"
      ]
    },
    {
      "cell_type": "code",
      "execution_count": null,
      "metadata": {
        "id": "Pj8FsCxtMCFT"
      },
      "outputs": [],
      "source": [
        "def createModel(modelPath, imageSize=(50, 200)):\n",
        "  model = keras.models.load_model(modelPath)\n",
        "  return imageSize, model\n",
        "\n",
        "\n",
        "def checkPicture(imgPath, imageSize=(50, 200)):\n",
        "  img = keras.preprocessing.image.load_img(imgPath, target_size=imageSize)\n",
        "  img_array = keras.preprocessing.image.img_to_array(img)\n",
        "  img_array = tf.expand_dims(img_array, 0)  # Create batch axis\n",
        "\n",
        "  predictions = model.predict(img_array)\n",
        "  score = predictions[0]\n",
        "  answer = str(\"This image is %.2f percent Display || %.2f percent Handwritten || %.2f percent Monospaced || %.2f percent Sans Serif || %.2f percent Serif.\"\n",
        "      % (100 * score[0], 100 * score[1], 100 * score[2], 100 * score[3], 100 * score[4]))\n",
        "  # print(score)\n",
        "  # print(answer)\n",
        "  return answer"
      ]
    },
    {
      "cell_type": "markdown",
      "metadata": {
        "id": "4bTijwcuNscS"
      },
      "source": [
        "# Сеть №1"
      ]
    },
    {
      "cell_type": "code",
      "execution_count": null,
      "metadata": {
        "colab": {
          "background_save": true
        },
        "id": "fwgmrcujNM18"
      },
      "outputs": [],
      "source": [
        "import urllib.request\n",
        "logo = urllib.request.urlopen(\"https://drive.google.com/uc?id=11wr7gI-qe_MUHG_hIlJM4edKPKTuLph6&export=download\").read()\n",
        "f = open(\"model.h5\", \"wb\")\n",
        "f.write(logo)\n",
        "f.close()\n",
        "\n",
        "imageSize, model = createModel(\n",
        "    '/content/model.h5'\n",
        "    )"
      ]
    },
    {
      "cell_type": "markdown",
      "metadata": {
        "id": "-B7Tvh9HN9em"
      },
      "source": [
        "# Сеть №2"
      ]
    },
    {
      "cell_type": "code",
      "execution_count": null,
      "metadata": {
        "id": "PMB2TIPmKGN5"
      },
      "outputs": [],
      "source": [
        "logo = urllib.request.urlopen(\"https://drive.google.com/uc?id=13tJS3g0FsQjtm5aoyWpu1JJR0zUlHGr3&export=download\").read()\n",
        "f = open(\"model.h5\", \"wb\")\n",
        "f.write(logo)\n",
        "f.close()\n",
        "\n",
        "imageSize, model = createModel(\n",
        "    '/content/model.h5'\n",
        "    )"
      ]
    },
    {
      "cell_type": "code",
      "execution_count": null,
      "metadata": {
        "id": "ErO48GJjOnPg"
      },
      "outputs": [],
      "source": [
        "# imageSize, model = createModel(\n",
        "#     '/content/drive/MyDrive/colabData/fontData/models/txtClassification/txtClassification_at_76#0.981-0.906.h5'\n",
        "#     )"
      ]
    },
    {
      "cell_type": "code",
      "execution_count": null,
      "metadata": {
        "colab": {
          "base_uri": "https://localhost:8080/",
          "height": 102
        },
        "id": "wsr8Mr9oLJVc",
        "outputId": "2b6cfba1-9ee7-4816-839c-ec7a7309b43e"
      },
      "outputs": [
        {
          "output_type": "stream",
          "name": "stdout",
          "text": [
            "This image is 16.95 percent Display || 0.00 percent Handwritten || 0.00 percent Monospaced || 83.05 percent Sans Serif || 0.00 percent Serif. \n",
            "\n"
          ]
        },
        {
          "output_type": "display_data",
          "data": {
            "text/plain": [
              "<PIL.Image.Image image mode=RGB size=200x50 at 0x7F18A6EB6390>"
            ],
            "image/png": "[encoded data removed]"
          },
          "metadata": {}
        }
      ],
      "source": [
        "picturePath = '/content/download.png'\n",
        "print(checkPicture(picturePath, imageSize), '\\n')\n",
        "cv2_imshow(cv2.imread(picturePath))"
      ]
    },
    {
      "cell_type": "code",
      "execution_count": null,
      "metadata": {
        "colab": {
          "base_uri": "https://localhost:8080/",
          "height": 122
        },
        "id": "dEoWF4RbLJtE",
        "outputId": "977119e8-1d42-4ff8-fa8d-72310292f8bd"
      },
      "outputs": [
        {
          "name": "stdout",
          "output_type": "stream",
          "text": [
            "wnload.png This image is 0.00 percent Display || 0.00 percent Handwritten || 0.00 percent Monospaced || 0.00 percent Sans Serif || 100.00 percent Serif. \n",
            "\n"
          ]
        },
        {
          "data": {
            "image/png": "[encoded data removed]",
            "text/plain": [
              "<PIL.Image.Image image mode=RGB size=200x50 at 0x7F11D4E99710>"
            ]
          },
          "metadata": {},
          "output_type": "display_data"
        }
      ],
      "source": [
        "folder_path = '/content/test'\n",
        "lenMsg = 10\n",
        "files = 10\n",
        "for fname in os.listdir(folder_path)[:files]:\n",
        "  fname = folder_path +'/'+fname\n",
        "  print(fname[-lenMsg:], checkPicture(fname, imageSize), '\\n')\n",
        "  cv2_imshow(cv2.imread(fname))"
      ]
    }
  ],
  "metadata": {
    "colab": {
      "collapsed_sections": [],
      "provenance": []
    },
    "kernelspec": {
      "display_name": "Python 3",
      "name": "python3"
    },
    "language_info": {
      "name": "python"
    }
  },
  "nbformat": 4,
  "nbformat_minor": 0
}