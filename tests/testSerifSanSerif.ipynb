{
  "cells": [
    {
      "cell_type": "code",
      "execution_count": null,
      "metadata": {
        "id": "n4xV3oKZk2Vy"
      },
      "outputs": [],
      "source": [
        "from tensorflow import keras\n",
        "import numpy as np\n",
        "import tensorflow as tf\n",
        "from tensorflow import keras\n",
        "model = keras.models.load_model('save_at_40.h5')\n",
        "image_size = (50, 200)"
      ]
    },
    {
      "cell_type": "code",
      "execution_count": null,
      "metadata": {
        "colab": {
          "base_uri": "https://localhost:8080/"
        },
        "id": "ThJJoyjBkzxt",
        "outputId": "d3f68da6-ccb8-42ee-f0e9-10c6c5eb1939"
      },
      "outputs": [
        {
          "name": "stdout",
          "output_type": "stream",
          "text": [
            "This image is 100.00 percent sans serif and 0.00 percent serif.\n"
          ]
        }
      ],
      "source": [
        "img = keras.preprocessing.image.load_img(\n",
        "    \"/content/noDoubleSans.JPG\", target_size=image_size\n",
        ")\n",
        "img_array = keras.preprocessing.image.img_to_array(img)\n",
        "img_array = tf.expand_dims(img_array, 0)  # Create batch axis\n",
        "\n",
        "predictions = model.predict(img_array)\n",
        "score = predictions[0]\n",
        "print(\n",
        "    \"This image is %.2f percent sans serif and %.2f percent serif.\"\n",
        "    % (100 * (1 - score), 100 * score)\n",
        ")"
      ]
    },
    {
      "cell_type": "code",
      "execution_count": null,
      "metadata": {
        "id": "-qkNhUEN28gi"
      },
      "outputs": [],
      "source": []
    },
    {
      "cell_type": "code",
      "execution_count": null,
      "metadata": {
        "id": "CXKU7wqj28rM"
      },
      "outputs": [],
      "source": [
        "from tensorflow import keras\n",
        "import numpy as np\n",
        "import tensorflow as tf\n",
        "from tensorflow import keras\n",
        "model = keras.models.load_model('/content/drive/MyDrive/colabData/fontData/save_at_40.h5')\n",
        "image_size = (50, 200)"
      ]
    },
    {
      "cell_type": "code",
      "execution_count": null,
      "metadata": {
        "colab": {
          "base_uri": "https://localhost:8080/"
        },
        "id": "_VwmTeOm28rP",
        "outputId": "2676cdec-0618-4248-9633-f93062bddc4b"
      },
      "outputs": [
        {
          "name": "stdout",
          "output_type": "stream",
          "text": [
            "[2.3427853e-07]\n",
            "This image is 100.00 percent sans serif and 0.00 percent serif.\n"
          ]
        }
      ],
      "source": [
        "img = keras.preprocessing.image.load_img(\n",
        "    \"/content/Calibry3.JPG\", target_size=image_size\n",
        ")\n",
        "img_array = keras.preprocessing.image.img_to_array(img)\n",
        "img_array = tf.expand_dims(img_array, 0)  # Create batch axis\n",
        "\n",
        "predictions = model.predict(img_array)\n",
        "score = predictions[0]\n",
        "print(score)\n",
        "print(\n",
        "    \"This image is %.2f percent sans serif and %.2f percent serif.\"\n",
        "    % (100 * (1 - score), 100 * score)\n",
        ")"
      ]
    },
    {
      "cell_type": "code",
      "execution_count": null,
      "metadata": {
        "colab": {
          "background_save": true,
          "base_uri": "https://localhost:8080/"
        },
        "id": "unG-h-yliirr",
        "outputId": "37913c7a-44d6-4b3a-9c19-4f744b32a3dd"
      },
      "outputs": [
        {
          "name": "stdout",
          "output_type": "stream",
          "text": [
            "\u001b[?1l\u001b>"
          ]
        }
      ],
      "source": [
        "!watch -d \"mpstat -P ALL 1 1 | head -n 12\""
      ]
    }
  ],
  "metadata": {
    "colab": {
      "provenance": [],
      "toc_visible": true,
      "collapsed_sections": []
    },
    "kernelspec": {
      "display_name": "Python 3",
      "name": "python3"
    },
    "language_info": {
      "name": "python"
    }
  },
  "nbformat": 4,
  "nbformat_minor": 0
}