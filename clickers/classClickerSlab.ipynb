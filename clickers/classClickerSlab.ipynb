{
  "nbformat": 4,
  "nbformat_minor": 0,
  "metadata": {
    "colab": {
      "provenance": [],
      "collapsed_sections": [],
      "toc_visible": true
    },
    "kernelspec": {
      "name": "python3",
      "display_name": "Python 3"
    },
    "widgets": {
      "application/vnd.jupyter.widget-state+json": {
        "f358ffe754594ce3b1d4e558de7c7b7b": {
          "model_module": "@jupyter-widgets/controls",
          "model_name": "ButtonModel",
          "model_module_version": "1.5.0",
          "state": {
            "_dom_classes": [],
            "_model_module": "@jupyter-widgets/controls",
            "_model_module_version": "1.5.0",
            "_model_name": "ButtonModel",
            "_view_count": null,
            "_view_module": "@jupyter-widgets/controls",
            "_view_module_version": "1.5.0",
            "_view_name": "ButtonView",
            "button_style": "",
            "description": "Display",
            "disabled": false,
            "icon": "",
            "layout": "IPY_MODEL_75c3b41b80044660862be120030a990e",
            "style": "IPY_MODEL_8ee2560ae4e14583b94c7313394a2619",
            "tooltip": ""
          }
        },
        "75c3b41b80044660862be120030a990e": {
          "model_module": "@jupyter-widgets/base",
          "model_name": "LayoutModel",
          "model_module_version": "1.2.0",
          "state": {
            "_model_module": "@jupyter-widgets/base",
            "_model_module_version": "1.2.0",
            "_model_name": "LayoutModel",
            "_view_count": null,
            "_view_module": "@jupyter-widgets/base",
            "_view_module_version": "1.2.0",
            "_view_name": "LayoutView",
            "align_content": null,
            "align_items": null,
            "align_self": null,
            "border": null,
            "bottom": null,
            "display": null,
            "flex": null,
            "flex_flow": null,
            "grid_area": null,
            "grid_auto_columns": null,
            "grid_auto_flow": null,
            "grid_auto_rows": null,
            "grid_column": null,
            "grid_gap": null,
            "grid_row": null,
            "grid_template_areas": null,
            "grid_template_columns": null,
            "grid_template_rows": null,
            "height": null,
            "justify_content": null,
            "justify_items": null,
            "left": null,
            "margin": null,
            "max_height": null,
            "max_width": null,
            "min_height": null,
            "min_width": null,
            "object_fit": null,
            "object_position": null,
            "order": null,
            "overflow": null,
            "overflow_x": null,
            "overflow_y": null,
            "padding": null,
            "right": null,
            "top": null,
            "visibility": null,
            "width": null
          }
        },
        "8ee2560ae4e14583b94c7313394a2619": {
          "model_module": "@jupyter-widgets/controls",
          "model_name": "ButtonStyleModel",
          "model_module_version": "1.5.0",
          "state": {
            "_model_module": "@jupyter-widgets/controls",
            "_model_module_version": "1.5.0",
            "_model_name": "ButtonStyleModel",
            "_view_count": null,
            "_view_module": "@jupyter-widgets/base",
            "_view_module_version": "1.2.0",
            "_view_name": "StyleView",
            "button_color": null,
            "font_weight": ""
          }
        },
        "1e47f481e66041949be6e268da1bc66b": {
          "model_module": "@jupyter-widgets/controls",
          "model_name": "ButtonModel",
          "model_module_version": "1.5.0",
          "state": {
            "_dom_classes": [],
            "_model_module": "@jupyter-widgets/controls",
            "_model_module_version": "1.5.0",
            "_model_name": "ButtonModel",
            "_view_count": null,
            "_view_module": "@jupyter-widgets/controls",
            "_view_module_version": "1.5.0",
            "_view_name": "ButtonView",
            "button_style": "",
            "description": "Sans Serif",
            "disabled": false,
            "icon": "",
            "layout": "IPY_MODEL_31b08bb16ca945c6898f715bc0dab2cf",
            "style": "IPY_MODEL_a58b5c7c0fda4779b42b4ace026c906a",
            "tooltip": ""
          }
        },
        "31b08bb16ca945c6898f715bc0dab2cf": {
          "model_module": "@jupyter-widgets/base",
          "model_name": "LayoutModel",
          "model_module_version": "1.2.0",
          "state": {
            "_model_module": "@jupyter-widgets/base",
            "_model_module_version": "1.2.0",
            "_model_name": "LayoutModel",
            "_view_count": null,
            "_view_module": "@jupyter-widgets/base",
            "_view_module_version": "1.2.0",
            "_view_name": "LayoutView",
            "align_content": null,
            "align_items": null,
            "align_self": null,
            "border": null,
            "bottom": null,
            "display": null,
            "flex": null,
            "flex_flow": null,
            "grid_area": null,
            "grid_auto_columns": null,
            "grid_auto_flow": null,
            "grid_auto_rows": null,
            "grid_column": null,
            "grid_gap": null,
            "grid_row": null,
            "grid_template_areas": null,
            "grid_template_columns": null,
            "grid_template_rows": null,
            "height": null,
            "justify_content": null,
            "justify_items": null,
            "left": null,
            "margin": null,
            "max_height": null,
            "max_width": null,
            "min_height": null,
            "min_width": null,
            "object_fit": null,
            "object_position": null,
            "order": null,
            "overflow": null,
            "overflow_x": null,
            "overflow_y": null,
            "padding": null,
            "right": null,
            "top": null,
            "visibility": null,
            "width": null
          }
        },
        "a58b5c7c0fda4779b42b4ace026c906a": {
          "model_module": "@jupyter-widgets/controls",
          "model_name": "ButtonStyleModel",
          "model_module_version": "1.5.0",
          "state": {
            "_model_module": "@jupyter-widgets/controls",
            "_model_module_version": "1.5.0",
            "_model_name": "ButtonStyleModel",
            "_view_count": null,
            "_view_module": "@jupyter-widgets/base",
            "_view_module_version": "1.2.0",
            "_view_name": "StyleView",
            "button_color": null,
            "font_weight": ""
          }
        },
        "6d732a37503743e1960f5b40c09a8cbd": {
          "model_module": "@jupyter-widgets/controls",
          "model_name": "ButtonModel",
          "model_module_version": "1.5.0",
          "state": {
            "_dom_classes": [],
            "_model_module": "@jupyter-widgets/controls",
            "_model_module_version": "1.5.0",
            "_model_name": "ButtonModel",
            "_view_count": null,
            "_view_module": "@jupyter-widgets/controls",
            "_view_module_version": "1.5.0",
            "_view_name": "ButtonView",
            "button_style": "",
            "description": "Serif",
            "disabled": false,
            "icon": "",
            "layout": "IPY_MODEL_35269f16dd9941b191c3e35491871bc5",
            "style": "IPY_MODEL_8528ac2ae9a04dfc933407db3e1b1f32",
            "tooltip": ""
          }
        },
        "35269f16dd9941b191c3e35491871bc5": {
          "model_module": "@jupyter-widgets/base",
          "model_name": "LayoutModel",
          "model_module_version": "1.2.0",
          "state": {
            "_model_module": "@jupyter-widgets/base",
            "_model_module_version": "1.2.0",
            "_model_name": "LayoutModel",
            "_view_count": null,
            "_view_module": "@jupyter-widgets/base",
            "_view_module_version": "1.2.0",
            "_view_name": "LayoutView",
            "align_content": null,
            "align_items": null,
            "align_self": null,
            "border": null,
            "bottom": null,
            "display": null,
            "flex": null,
            "flex_flow": null,
            "grid_area": null,
            "grid_auto_columns": null,
            "grid_auto_flow": null,
            "grid_auto_rows": null,
            "grid_column": null,
            "grid_gap": null,
            "grid_row": null,
            "grid_template_areas": null,
            "grid_template_columns": null,
            "grid_template_rows": null,
            "height": null,
            "justify_content": null,
            "justify_items": null,
            "left": null,
            "margin": null,
            "max_height": null,
            "max_width": null,
            "min_height": null,
            "min_width": null,
            "object_fit": null,
            "object_position": null,
            "order": null,
            "overflow": null,
            "overflow_x": null,
            "overflow_y": null,
            "padding": null,
            "right": null,
            "top": null,
            "visibility": null,
            "width": null
          }
        },
        "8528ac2ae9a04dfc933407db3e1b1f32": {
          "model_module": "@jupyter-widgets/controls",
          "model_name": "ButtonStyleModel",
          "model_module_version": "1.5.0",
          "state": {
            "_model_module": "@jupyter-widgets/controls",
            "_model_module_version": "1.5.0",
            "_model_name": "ButtonStyleModel",
            "_view_count": null,
            "_view_module": "@jupyter-widgets/base",
            "_view_module_version": "1.2.0",
            "_view_name": "StyleView",
            "button_color": null,
            "font_weight": ""
          }
        },
        "94624468abfd4efb88b2be86288c5f0e": {
          "model_module": "@jupyter-widgets/controls",
          "model_name": "ButtonModel",
          "model_module_version": "1.5.0",
          "state": {
            "_dom_classes": [],
            "_model_module": "@jupyter-widgets/controls",
            "_model_module_version": "1.5.0",
            "_model_name": "ButtonModel",
            "_view_count": null,
            "_view_module": "@jupyter-widgets/controls",
            "_view_module_version": "1.5.0",
            "_view_name": "ButtonView",
            "button_style": "",
            "description": "Monospaced",
            "disabled": false,
            "icon": "",
            "layout": "IPY_MODEL_6667b6e8f0594deca9b2606c3fa472cd",
            "style": "IPY_MODEL_639b10a045514cdfae5ff1bfbc217a63",
            "tooltip": ""
          }
        },
        "6667b6e8f0594deca9b2606c3fa472cd": {
          "model_module": "@jupyter-widgets/base",
          "model_name": "LayoutModel",
          "model_module_version": "1.2.0",
          "state": {
            "_model_module": "@jupyter-widgets/base",
            "_model_module_version": "1.2.0",
            "_model_name": "LayoutModel",
            "_view_count": null,
            "_view_module": "@jupyter-widgets/base",
            "_view_module_version": "1.2.0",
            "_view_name": "LayoutView",
            "align_content": null,
            "align_items": null,
            "align_self": null,
            "border": null,
            "bottom": null,
            "display": null,
            "flex": null,
            "flex_flow": null,
            "grid_area": null,
            "grid_auto_columns": null,
            "grid_auto_flow": null,
            "grid_auto_rows": null,
            "grid_column": null,
            "grid_gap": null,
            "grid_row": null,
            "grid_template_areas": null,
            "grid_template_columns": null,
            "grid_template_rows": null,
            "height": null,
            "justify_content": null,
            "justify_items": null,
            "left": null,
            "margin": null,
            "max_height": null,
            "max_width": null,
            "min_height": null,
            "min_width": null,
            "object_fit": null,
            "object_position": null,
            "order": null,
            "overflow": null,
            "overflow_x": null,
            "overflow_y": null,
            "padding": null,
            "right": null,
            "top": null,
            "visibility": null,
            "width": null
          }
        },
        "639b10a045514cdfae5ff1bfbc217a63": {
          "model_module": "@jupyter-widgets/controls",
          "model_name": "ButtonStyleModel",
          "model_module_version": "1.5.0",
          "state": {
            "_model_module": "@jupyter-widgets/controls",
            "_model_module_version": "1.5.0",
            "_model_name": "ButtonStyleModel",
            "_view_count": null,
            "_view_module": "@jupyter-widgets/base",
            "_view_module_version": "1.2.0",
            "_view_name": "StyleView",
            "button_color": null,
            "font_weight": ""
          }
        },
        "089d04f0e5ba47dbb510758ca9777204": {
          "model_module": "@jupyter-widgets/controls",
          "model_name": "ButtonModel",
          "model_module_version": "1.5.0",
          "state": {
            "_dom_classes": [],
            "_model_module": "@jupyter-widgets/controls",
            "_model_module_version": "1.5.0",
            "_model_name": "ButtonModel",
            "_view_count": null,
            "_view_module": "@jupyter-widgets/controls",
            "_view_module_version": "1.5.0",
            "_view_name": "ButtonView",
            "button_style": "",
            "description": "Handwritten",
            "disabled": false,
            "icon": "",
            "layout": "IPY_MODEL_842c244310914c8fadb2e70493ef55c2",
            "style": "IPY_MODEL_b9c68ef393574c309b6efddd85c1ab5d",
            "tooltip": ""
          }
        },
        "842c244310914c8fadb2e70493ef55c2": {
          "model_module": "@jupyter-widgets/base",
          "model_name": "LayoutModel",
          "model_module_version": "1.2.0",
          "state": {
            "_model_module": "@jupyter-widgets/base",
            "_model_module_version": "1.2.0",
            "_model_name": "LayoutModel",
            "_view_count": null,
            "_view_module": "@jupyter-widgets/base",
            "_view_module_version": "1.2.0",
            "_view_name": "LayoutView",
            "align_content": null,
            "align_items": null,
            "align_self": null,
            "border": null,
            "bottom": null,
            "display": null,
            "flex": null,
            "flex_flow": null,
            "grid_area": null,
            "grid_auto_columns": null,
            "grid_auto_flow": null,
            "grid_auto_rows": null,
            "grid_column": null,
            "grid_gap": null,
            "grid_row": null,
            "grid_template_areas": null,
            "grid_template_columns": null,
            "grid_template_rows": null,
            "height": null,
            "justify_content": null,
            "justify_items": null,
            "left": null,
            "margin": null,
            "max_height": null,
            "max_width": null,
            "min_height": null,
            "min_width": null,
            "object_fit": null,
            "object_position": null,
            "order": null,
            "overflow": null,
            "overflow_x": null,
            "overflow_y": null,
            "padding": null,
            "right": null,
            "top": null,
            "visibility": null,
            "width": null
          }
        },
        "b9c68ef393574c309b6efddd85c1ab5d": {
          "model_module": "@jupyter-widgets/controls",
          "model_name": "ButtonStyleModel",
          "model_module_version": "1.5.0",
          "state": {
            "_model_module": "@jupyter-widgets/controls",
            "_model_module_version": "1.5.0",
            "_model_name": "ButtonStyleModel",
            "_view_count": null,
            "_view_module": "@jupyter-widgets/base",
            "_view_module_version": "1.2.0",
            "_view_name": "StyleView",
            "button_color": null,
            "font_weight": ""
          }
        }
      }
    }
  },
  "cells": [
    {
      "cell_type": "code",
      "source": [
        "from google.colab import drive\n",
        "drive.mount('/content/drive')"
      ],
      "metadata": {
        "colab": {
          "base_uri": "https://localhost:8080/"
        },
        "id": "DoM5UuPI4wFh",
        "outputId": "c9d29c05-970b-4c9a-fcfb-ea4765a26fab"
      },
      "execution_count": null,
      "outputs": [
        {
          "output_type": "stream",
          "name": "stdout",
          "text": [
            "Mounted at /content/drive\n"
          ]
        }
      ]
    },
    {
      "cell_type": "code",
      "source": [
        "from PIL import Image, ImageDraw, ImageFont\n",
        "import numpy as np\n",
        "from matplotlib import cm\n",
        "import random\n",
        "import string\n",
        "\n",
        "\n",
        "def generateRandomSample(fontPath, picSize=(400*4,50*4)):\n",
        "  im = Image.new('RGB', picSize, color=('#FFFFFF'))\n",
        "  font = ImageFont.truetype(fontPath, size=80)\n",
        "  draw_text = ImageDraw.Draw(im)\n",
        "  draw_text.text(\n",
        "      (5, 5),\n",
        "      generate_random_string(20),\n",
        "      font=font,\n",
        "      fill='#000000')\n",
        "  return im\n",
        "\n",
        "\n",
        "def generate_random_string(length):\n",
        "  letters = string.ascii_letters\n",
        "  rand_string = ''.join(random.choice(letters) for i in range(length))\n",
        "  # print(\"Random string of length\", length, \"is:\", rand_string)\n",
        "  return \"ABCDEFGHIJKLMNOPQRSTUVWXY\\nabcdefghijklmnopqrstuvwxyz\"\n",
        "  # return rand_string"
      ],
      "metadata": {
        "id": "FJ0DSNLK3p_Z"
      },
      "execution_count": null,
      "outputs": []
    },
    {
      "cell_type": "code",
      "source": [
        "contrast = ('High Contrast', 'nonHC')\n",
        "classificationArr = ('Display', 'Sans Serif', 'Serif', 'Monospaced', 'Handwritten')\n",
        "classificationArr = ('Oblique', 'True Italics', 'Cursive')\n",
        "\n",
        "category = classificationArr"
      ],
      "metadata": {
        "id": "ZE2WiQLBEZM5"
      },
      "execution_count": null,
      "outputs": []
    },
    {
      "cell_type": "code",
      "source": [
        "import os\n",
        "\n",
        "\n",
        "path_to_fonts     = \"/content/drive/MyDrive/colabData/fontData/data/slab/\"\n",
        "path_to_save_data = \"/content/drive/MyDrive/colabData/fontData/data/manualClassification/\"\n",
        "path_to_all_fonts = \"/content/drive/MyDrive/colabData/fontData/allFonts\"\n",
        "\n",
        "base = []\n",
        "num_skipped = 0\n",
        "cnt = 0\n",
        "for folder_name in (category):\n",
        "    folder_path = os.path.join(path_to_fonts, folder_name)\n",
        "    for fname in os.listdir(folder_path):\n",
        "        cnt += 1\n",
        "        fpath = os.path.join(folder_path, fname)\n",
        "        # print(fpath)\n",
        "        # print('/content/drive/MyDrive/colabData/fontData/data/img/'+folder_name+'/'+fname[:-4]+'.png')\n",
        "        # fullName = '/content/drive/MyDrive/colabData/fontData/data/img/'+folder_name+'/'+fname[:-4]+'.jpg'\n",
        "        # for i in range(20):\n",
        "        base.append({'name':fname, 'image':generateRandomSample(fpath)})\n",
        "          # print(\"!\")\n",
        "    #     if cnt == 5:\n",
        "    #       break\n",
        "    # break\n",
        "    print('Подготовлено шрифтов:', cnt)\n",
        "# base"
      ],
      "metadata": {
        "colab": {
          "base_uri": "https://localhost:8080/"
        },
        "id": "vHyE0ALc3FA3",
        "outputId": "d1eaeb6a-7d3c-4074-861e-d2efa185951e"
      },
      "execution_count": null,
      "outputs": [
        {
          "output_type": "stream",
          "name": "stdout",
          "text": [
            "Подготовлено шрифтов: 68\n",
            "Подготовлено шрифтов: 81\n",
            "Подготовлено шрифтов: 89\n"
          ]
        }
      ]
    },
    {
      "cell_type": "code",
      "metadata": {
        "id": "47M7GNKqu5p-",
        "colab": {
          "base_uri": "https://localhost:8080/"
        },
        "outputId": "871322fc-5f2e-4f79-e143-d18e71b7c065"
      },
      "source": [
        "!pip install pyaztro"
      ],
      "execution_count": null,
      "outputs": [
        {
          "output_type": "stream",
          "name": "stdout",
          "text": [
            "Collecting pyaztro\n",
            "  Downloading pyaztro-0.3-py3-none-any.whl (4.9 kB)\n",
            "Requirement already satisfied: requests in /usr/local/lib/python3.7/dist-packages (from pyaztro) (2.23.0)\n",
            "Requirement already satisfied: python-dateutil in /usr/local/lib/python3.7/dist-packages (from pyaztro) (2.8.2)\n",
            "Requirement already satisfied: six>=1.5 in /usr/local/lib/python3.7/dist-packages (from python-dateutil->pyaztro) (1.15.0)\n",
            "Requirement already satisfied: idna<3,>=2.5 in /usr/local/lib/python3.7/dist-packages (from requests->pyaztro) (2.10)\n",
            "Requirement already satisfied: certifi>=2017.4.17 in /usr/local/lib/python3.7/dist-packages (from requests->pyaztro) (2021.10.8)\n",
            "Requirement already satisfied: urllib3!=1.25.0,!=1.25.1,<1.26,>=1.21.1 in /usr/local/lib/python3.7/dist-packages (from requests->pyaztro) (1.24.3)\n",
            "Requirement already satisfied: chardet<4,>=3.0.2 in /usr/local/lib/python3.7/dist-packages (from requests->pyaztro) (3.0.4)\n",
            "Installing collected packages: pyaztro\n",
            "Successfully installed pyaztro-0.3\n"
          ]
        }
      ]
    },
    {
      "cell_type": "code",
      "source": [
        "import pyaztro\n",
        "from google.colab import widgets\n",
        "import ipywidgets\n",
        "from IPython.display import display, clear_output\n",
        "import pandas as pd"
      ],
      "metadata": {
        "id": "6bn30nvLuJL_"
      },
      "execution_count": null,
      "outputs": []
    },
    {
      "cell_type": "code",
      "source": [
        "classify = []"
      ],
      "metadata": {
        "id": "jG51qyIKyg53"
      },
      "execution_count": null,
      "outputs": []
    },
    {
      "cell_type": "code",
      "source": [
        "def setup():\n",
        "  global name\n",
        "  img = base.pop()\n",
        "  grid = widgets.Grid(1, 5, header_row=True, header_column=True) \n",
        "  newsize = (400*4, 50*4)\n",
        "  display(img['image'].resize(newsize))\n",
        "  name = img['name']\n",
        "  for (row, col) in grid:\n",
        "    index = row*6+col\n",
        "    # print(\"\\n\")\n",
        "    # print(\"\\n\"+\"Choose!\"+\"\\n\")\n",
        "    display(button_list[index])"
      ],
      "metadata": {
        "id": "YbcuKtOFrSJX"
      },
      "execution_count": null,
      "outputs": []
    },
    {
      "cell_type": "code",
      "source": [
        "# myIterator = 0\n",
        "name = ''\n",
        "def on_button_clicked(button):\n",
        "  # Display the message within the output widget.\n",
        "  # with output:\n",
        "  global name\n",
        "  clear_output()\n",
        "  sign_name = str(button.description)\n",
        "  # next = myIterator+1\n",
        "  classify.append((name, sign_name))\n",
        "  \n",
        "  print(name, 'save as', sign_name)\n",
        "  # with grid.output_to(0, 0):\n",
        "  #   display(image_name[(1)]['image'].resize(newsize))\n",
        "  setup()\n",
        "  "
      ],
      "metadata": {
        "id": "qeolJWJnq_FK"
      },
      "execution_count": null,
      "outputs": []
    },
    {
      "cell_type": "code",
      "source": [
        "# category = ['Display', 'Handwritten', 'Monospased', 'Sans Serif', 'Serif']\n",
        "# category = ['High Contrast', 'None High Contrast']\n",
        "button_list = []\n",
        "for i in range(0,3):\n",
        "  button = ipywidgets.widgets.Button(description=category[i])\n",
        "  button.on_click(on_button_clicked)\n",
        "  button_list.append(button)  \n",
        "# def a():\n",
        "#   setup()"
      ],
      "metadata": {
        "id": "nnskzEe4oW8U"
      },
      "execution_count": null,
      "outputs": []
    },
    {
      "cell_type": "code",
      "source": [
        "setup()"
      ],
      "metadata": {
        "colab": {
          "base_uri": "https://localhost:8080/",
          "height": 257,
          "referenced_widgets": [
            "f358ffe754594ce3b1d4e558de7c7b7b",
            "75c3b41b80044660862be120030a990e",
            "8ee2560ae4e14583b94c7313394a2619",
            "1e47f481e66041949be6e268da1bc66b",
            "31b08bb16ca945c6898f715bc0dab2cf",
            "a58b5c7c0fda4779b42b4ace026c906a",
            "6d732a37503743e1960f5b40c09a8cbd",
            "35269f16dd9941b191c3e35491871bc5",
            "8528ac2ae9a04dfc933407db3e1b1f32",
            "94624468abfd4efb88b2be86288c5f0e",
            "6667b6e8f0594deca9b2606c3fa472cd",
            "639b10a045514cdfae5ff1bfbc217a63",
            "089d04f0e5ba47dbb510758ca9777204",
            "842c244310914c8fadb2e70493ef55c2",
            "b9c68ef393574c309b6efddd85c1ab5d"
          ]
        },
        "id": "UT0UG8JTslVe",
        "outputId": "5c9fe664-923a-443e-ab9b-b8df2b3fb233"
      },
      "execution_count": null,
      "outputs": [
        {
          "output_type": "stream",
          "name": "stdout",
          "text": [
            "Tangerine.ttf save as Handwritten\n"
          ]
        },
        {
          "output_type": "display_data",
          "data": {
            "text/plain": [
              "<IPython.core.display.HTML object>"
            ],
            "text/html": [
              "<style>\n",
              "       table#id12, #id12 > tbody > tr > th, #id12 > tbody > tr > td {\n",
              "         border: 1px solid lightgray;\n",
              "         border-collapse:collapse;\n",
              "         \n",
              "        }</style>"
            ]
          },
          "metadata": {}
        },
        {
          "output_type": "display_data",
          "data": {
            "text/plain": [
              "<IPython.core.display.HTML object>"
            ],
            "text/html": [
              "<table id=id12><tr><th id=id12-0-0></th><th id=id12-0-1></th><th id=id12-0-2></th><th id=id12-0-3></th><th id=id12-0-4></th></tr></table>"
            ]
          },
          "metadata": {}
        },
        {
          "output_type": "display_data",
          "data": {
            "text/plain": [
              "<PIL.Image.Image image mode=RGB size=1600x200 at 0x7F6D822395D0>"
            ],
            "image/png": "[encoded data removed]"
          },
          "metadata": {}
        },
        {
          "output_type": "display_data",
          "data": {
            "text/plain": [
              "<IPython.core.display.Javascript object>"
            ],
            "application/javascript": [
              "window[\"bb6cec34-b6d5-11ec-9a4c-0242ac1c0002\"] = google.colab.output.getActiveOutputArea();\n",
              "//# sourceURL=js_2b40dc4f37"
            ]
          },
          "metadata": {}
        },
        {
          "output_type": "display_data",
          "data": {
            "text/plain": [
              "<IPython.core.display.Javascript object>"
            ],
            "application/javascript": [
              "window[\"bb6d8f0e-b6d5-11ec-9a4c-0242ac1c0002\"] = document.querySelector(\"#id12-0-0\");\n",
              "//# sourceURL=js_d7bb6f034e"
            ]
          },
          "metadata": {}
        },
        {
          "output_type": "display_data",
          "data": {
            "text/plain": [
              "<IPython.core.display.Javascript object>"
            ],
            "application/javascript": [
              "window[\"bb6e2c34-b6d5-11ec-9a4c-0242ac1c0002\"] = google.colab.output.setActiveOutputArea(window[\"bb6d8f0e-b6d5-11ec-9a4c-0242ac1c0002\"]);\n",
              "//# sourceURL=js_ccaa67f86e"
            ]
          },
          "metadata": {}
        },
        {
          "output_type": "display_data",
          "data": {
            "text/plain": [
              "Button(description='Display', style=ButtonStyle())"
            ],
            "application/vnd.jupyter.widget-view+json": {
              "version_major": 2,
              "version_minor": 0,
              "model_id": "f358ffe754594ce3b1d4e558de7c7b7b"
            }
          },
          "metadata": {}
        },
        {
          "output_type": "display_data",
          "data": {
            "text/plain": [
              "<IPython.core.display.Javascript object>"
            ],
            "application/javascript": [
              "window[\"bb7150e4-b6d5-11ec-9a4c-0242ac1c0002\"] = google.colab.output.setActiveOutputArea(window[\"bb6cec34-b6d5-11ec-9a4c-0242ac1c0002\"]);\n",
              "//# sourceURL=js_e9127a15ff"
            ]
          },
          "metadata": {}
        },
        {
          "output_type": "display_data",
          "data": {
            "text/plain": [
              "<IPython.core.display.Javascript object>"
            ],
            "application/javascript": [
              "window[\"bb750f18-b6d5-11ec-9a4c-0242ac1c0002\"] = google.colab.output.getActiveOutputArea();\n",
              "//# sourceURL=js_4195914f99"
            ]
          },
          "metadata": {}
        },
        {
          "output_type": "display_data",
          "data": {
            "text/plain": [
              "<IPython.core.display.Javascript object>"
            ],
            "application/javascript": [
              "window[\"bb759cc6-b6d5-11ec-9a4c-0242ac1c0002\"] = document.querySelector(\"#id12-0-1\");\n",
              "//# sourceURL=js_b295efa24a"
            ]
          },
          "metadata": {}
        },
        {
          "output_type": "display_data",
          "data": {
            "text/plain": [
              "<IPython.core.display.Javascript object>"
            ],
            "application/javascript": [
              "window[\"bb7631f4-b6d5-11ec-9a4c-0242ac1c0002\"] = google.colab.output.setActiveOutputArea(window[\"bb759cc6-b6d5-11ec-9a4c-0242ac1c0002\"]);\n",
              "//# sourceURL=js_55359564f1"
            ]
          },
          "metadata": {}
        },
        {
          "output_type": "display_data",
          "data": {
            "text/plain": [
              "Button(description='Sans Serif', style=ButtonStyle())"
            ],
            "application/vnd.jupyter.widget-view+json": {
              "version_major": 2,
              "version_minor": 0,
              "model_id": "1e47f481e66041949be6e268da1bc66b"
            }
          },
          "metadata": {}
        },
        {
          "output_type": "display_data",
          "data": {
            "text/plain": [
              "<IPython.core.display.Javascript object>"
            ],
            "application/javascript": [
              "window[\"bb787cde-b6d5-11ec-9a4c-0242ac1c0002\"] = google.colab.output.setActiveOutputArea(window[\"bb750f18-b6d5-11ec-9a4c-0242ac1c0002\"]);\n",
              "//# sourceURL=js_cd83239c38"
            ]
          },
          "metadata": {}
        },
        {
          "output_type": "display_data",
          "data": {
            "text/plain": [
              "<IPython.core.display.Javascript object>"
            ],
            "application/javascript": [
              "window[\"bb7a3812-b6d5-11ec-9a4c-0242ac1c0002\"] = google.colab.output.getActiveOutputArea();\n",
              "//# sourceURL=js_bf1c659ad7"
            ]
          },
          "metadata": {}
        },
        {
          "output_type": "display_data",
          "data": {
            "text/plain": [
              "<IPython.core.display.Javascript object>"
            ],
            "application/javascript": [
              "window[\"bb7a82fe-b6d5-11ec-9a4c-0242ac1c0002\"] = document.querySelector(\"#id12-0-2\");\n",
              "//# sourceURL=js_0cf74e70f0"
            ]
          },
          "metadata": {}
        },
        {
          "output_type": "display_data",
          "data": {
            "text/plain": [
              "<IPython.core.display.Javascript object>"
            ],
            "application/javascript": [
              "window[\"bb7acb4c-b6d5-11ec-9a4c-0242ac1c0002\"] = google.colab.output.setActiveOutputArea(window[\"bb7a82fe-b6d5-11ec-9a4c-0242ac1c0002\"]);\n",
              "//# sourceURL=js_b020834e17"
            ]
          },
          "metadata": {}
        },
        {
          "output_type": "display_data",
          "data": {
            "text/plain": [
              "Button(description='Serif', style=ButtonStyle())"
            ],
            "application/vnd.jupyter.widget-view+json": {
              "version_major": 2,
              "version_minor": 0,
              "model_id": "6d732a37503743e1960f5b40c09a8cbd"
            }
          },
          "metadata": {}
        },
        {
          "output_type": "display_data",
          "data": {
            "text/plain": [
              "<IPython.core.display.Javascript object>"
            ],
            "application/javascript": [
              "window[\"bb7c12e0-b6d5-11ec-9a4c-0242ac1c0002\"] = google.colab.output.setActiveOutputArea(window[\"bb7a3812-b6d5-11ec-9a4c-0242ac1c0002\"]);\n",
              "//# sourceURL=js_6a2f7fabea"
            ]
          },
          "metadata": {}
        },
        {
          "output_type": "display_data",
          "data": {
            "text/plain": [
              "<IPython.core.display.Javascript object>"
            ],
            "application/javascript": [
              "window[\"bb7dadb2-b6d5-11ec-9a4c-0242ac1c0002\"] = google.colab.output.getActiveOutputArea();\n",
              "//# sourceURL=js_4dd95fb74a"
            ]
          },
          "metadata": {}
        },
        {
          "output_type": "display_data",
          "data": {
            "text/plain": [
              "<IPython.core.display.Javascript object>"
            ],
            "application/javascript": [
              "window[\"bb7df68c-b6d5-11ec-9a4c-0242ac1c0002\"] = document.querySelector(\"#id12-0-3\");\n",
              "//# sourceURL=js_b2ac7880eb"
            ]
          },
          "metadata": {}
        },
        {
          "output_type": "display_data",
          "data": {
            "text/plain": [
              "<IPython.core.display.Javascript object>"
            ],
            "application/javascript": [
              "window[\"bb7e3e6c-b6d5-11ec-9a4c-0242ac1c0002\"] = google.colab.output.setActiveOutputArea(window[\"bb7df68c-b6d5-11ec-9a4c-0242ac1c0002\"]);\n",
              "//# sourceURL=js_43a28cf5f1"
            ]
          },
          "metadata": {}
        },
        {
          "output_type": "display_data",
          "data": {
            "text/plain": [
              "Button(description='Monospaced', style=ButtonStyle())"
            ],
            "application/vnd.jupyter.widget-view+json": {
              "version_major": 2,
              "version_minor": 0,
              "model_id": "94624468abfd4efb88b2be86288c5f0e"
            }
          },
          "metadata": {}
        },
        {
          "output_type": "display_data",
          "data": {
            "text/plain": [
              "<IPython.core.display.Javascript object>"
            ],
            "application/javascript": [
              "window[\"bb7f8394-b6d5-11ec-9a4c-0242ac1c0002\"] = google.colab.output.setActiveOutputArea(window[\"bb7dadb2-b6d5-11ec-9a4c-0242ac1c0002\"]);\n",
              "//# sourceURL=js_f9ef7f0455"
            ]
          },
          "metadata": {}
        },
        {
          "output_type": "display_data",
          "data": {
            "text/plain": [
              "<IPython.core.display.Javascript object>"
            ],
            "application/javascript": [
              "window[\"bb811948-b6d5-11ec-9a4c-0242ac1c0002\"] = google.colab.output.getActiveOutputArea();\n",
              "//# sourceURL=js_1cd7b77cb9"
            ]
          },
          "metadata": {}
        },
        {
          "output_type": "display_data",
          "data": {
            "text/plain": [
              "<IPython.core.display.Javascript object>"
            ],
            "application/javascript": [
              "window[\"bb8163b2-b6d5-11ec-9a4c-0242ac1c0002\"] = document.querySelector(\"#id12-0-4\");\n",
              "//# sourceURL=js_6d4610d828"
            ]
          },
          "metadata": {}
        },
        {
          "output_type": "display_data",
          "data": {
            "text/plain": [
              "<IPython.core.display.Javascript object>"
            ],
            "application/javascript": [
              "window[\"bb81acdc-b6d5-11ec-9a4c-0242ac1c0002\"] = google.colab.output.setActiveOutputArea(window[\"bb8163b2-b6d5-11ec-9a4c-0242ac1c0002\"]);\n",
              "//# sourceURL=js_3d2232ec4f"
            ]
          },
          "metadata": {}
        },
        {
          "output_type": "display_data",
          "data": {
            "text/plain": [
              "Button(description='Handwritten', style=ButtonStyle())"
            ],
            "application/vnd.jupyter.widget-view+json": {
              "version_major": 2,
              "version_minor": 0,
              "model_id": "089d04f0e5ba47dbb510758ca9777204"
            }
          },
          "metadata": {}
        },
        {
          "output_type": "display_data",
          "data": {
            "text/plain": [
              "<IPython.core.display.Javascript object>"
            ],
            "application/javascript": [
              "window[\"bb82f47a-b6d5-11ec-9a4c-0242ac1c0002\"] = google.colab.output.setActiveOutputArea(window[\"bb811948-b6d5-11ec-9a4c-0242ac1c0002\"]);\n",
              "//# sourceURL=js_d5870369ad"
            ]
          },
          "metadata": {}
        }
      ]
    },
    {
      "cell_type": "code",
      "source": [
        "print('Caunt of clicks {}'.format(len(classify)))\n",
        "classify"
      ],
      "metadata": {
        "colab": {
          "base_uri": "https://localhost:8080/"
        },
        "id": "V1LAmEmzy7s1",
        "outputId": "da3c381e-fa59-4cb1-9e1a-034effe2a0e2"
      },
      "execution_count": null,
      "outputs": [
        {
          "output_type": "stream",
          "name": "stdout",
          "text": [
            "Caunt of clicks 5\n"
          ]
        },
        {
          "output_type": "execute_result",
          "data": {
            "text/plain": [
              "[('Yellowtail.ttf', 'Handwritten'),\n",
              " ('WindSong.ttf', 'Handwritten'),\n",
              " ('Walter Turncoat.ttf', 'Serif'),\n",
              " ('Vibes.ttf', 'Handwritten'),\n",
              " ('Tangerine.ttf', 'Handwritten')]"
            ]
          },
          "metadata": {},
          "execution_count": 20
        }
      ]
    },
    {
      "cell_type": "markdown",
      "source": [
        "## Create DataBase"
      ],
      "metadata": {
        "id": "6Gu0jPTRmW-y"
      }
    },
    {
      "cell_type": "code",
      "source": [
        "ratio = [1]\n",
        "num_skipped = 0\n",
        "cnt = [0]*len(classify)\n",
        "for fname in classify:\n",
        "  if fname[0] in os.listdir(path_to_all_fonts):\n",
        "    # cnt += 1\n",
        "    fpath = os.path.join(path_to_save_data, fname[0])\n",
        "    folder_name = fname[1]\n",
        "    # print(fpath)\n",
        "    os.replace(fpath, path_to_save_data+folder_name+'/'+fname[0])\n",
        "    # print(category.index(folder_name))\n",
        "    cnt[category.index(folder_name)] += 1\n",
        "for idx, className in enumerate(category):\n",
        "  print('Подготовлено шрифтов типа {}: {} штук'.format(className, cnt[idx]))"
      ],
      "metadata": {
        "id": "raHg08icLyjM",
        "colab": {
          "base_uri": "https://localhost:8080/"
        },
        "outputId": "008b1b17-6f70-4dcc-a07f-7133bbbe0be3"
      },
      "execution_count": null,
      "outputs": [
        {
          "output_type": "stream",
          "name": "stdout",
          "text": [
            "4\n",
            "4\n",
            "2\n",
            "4\n",
            "4\n",
            "Подготовлено шрифтов типа Display: 0 штук\n",
            "Подготовлено шрифтов типа Sans Serif: 0 штук\n",
            "Подготовлено шрифтов типа Serif: 1 штук\n",
            "Подготовлено шрифтов типа Monospaced: 0 штук\n",
            "Подготовлено шрифтов типа Handwritten: 4 штук\n"
          ]
        }
      ]
    }
  ]
}