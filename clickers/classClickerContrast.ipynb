{
  "nbformat": 4,
  "nbformat_minor": 0,
  "metadata": {
    "colab": {
      "provenance": [],
      "collapsed_sections": []
    },
    "kernelspec": {
      "name": "python3",
      "display_name": "Python 3"
    },
    "widgets": {
      "application/vnd.jupyter.widget-state+json": {
        "65b1f586548444d6b7e3cdf880d2c28c": {
          "model_module": "@jupyter-widgets/controls",
          "model_name": "ButtonModel",
          "model_module_version": "1.5.0",
          "state": {
            "_dom_classes": [],
            "_model_module": "@jupyter-widgets/controls",
            "_model_module_version": "1.5.0",
            "_model_name": "ButtonModel",
            "_view_count": null,
            "_view_module": "@jupyter-widgets/controls",
            "_view_module_version": "1.5.0",
            "_view_name": "ButtonView",
            "button_style": "",
            "description": "High Contrast",
            "disabled": false,
            "icon": "",
            "layout": "IPY_MODEL_f60d3e23dbed40b3a2599f0fcc2b8ec4",
            "style": "IPY_MODEL_174f14fe1d87492ab035671ff314c633",
            "tooltip": ""
          }
        },
        "f60d3e23dbed40b3a2599f0fcc2b8ec4": {
          "model_module": "@jupyter-widgets/base",
          "model_name": "LayoutModel",
          "model_module_version": "1.2.0",
          "state": {
            "_model_module": "@jupyter-widgets/base",
            "_model_module_version": "1.2.0",
            "_model_name": "LayoutModel",
            "_view_count": null,
            "_view_module": "@jupyter-widgets/base",
            "_view_module_version": "1.2.0",
            "_view_name": "LayoutView",
            "align_content": null,
            "align_items": null,
            "align_self": null,
            "border": null,
            "bottom": null,
            "display": null,
            "flex": null,
            "flex_flow": null,
            "grid_area": null,
            "grid_auto_columns": null,
            "grid_auto_flow": null,
            "grid_auto_rows": null,
            "grid_column": null,
            "grid_gap": null,
            "grid_row": null,
            "grid_template_areas": null,
            "grid_template_columns": null,
            "grid_template_rows": null,
            "height": null,
            "justify_content": null,
            "justify_items": null,
            "left": null,
            "margin": null,
            "max_height": null,
            "max_width": null,
            "min_height": null,
            "min_width": null,
            "object_fit": null,
            "object_position": null,
            "order": null,
            "overflow": null,
            "overflow_x": null,
            "overflow_y": null,
            "padding": null,
            "right": null,
            "top": null,
            "visibility": null,
            "width": null
          }
        },
        "174f14fe1d87492ab035671ff314c633": {
          "model_module": "@jupyter-widgets/controls",
          "model_name": "ButtonStyleModel",
          "model_module_version": "1.5.0",
          "state": {
            "_model_module": "@jupyter-widgets/controls",
            "_model_module_version": "1.5.0",
            "_model_name": "ButtonStyleModel",
            "_view_count": null,
            "_view_module": "@jupyter-widgets/base",
            "_view_module_version": "1.2.0",
            "_view_name": "StyleView",
            "button_color": null,
            "font_weight": ""
          }
        },
        "8219fa10565145918e31d53212df9b70": {
          "model_module": "@jupyter-widgets/controls",
          "model_name": "ButtonModel",
          "model_module_version": "1.5.0",
          "state": {
            "_dom_classes": [],
            "_model_module": "@jupyter-widgets/controls",
            "_model_module_version": "1.5.0",
            "_model_name": "ButtonModel",
            "_view_count": null,
            "_view_module": "@jupyter-widgets/controls",
            "_view_module_version": "1.5.0",
            "_view_name": "ButtonView",
            "button_style": "",
            "description": "None High Contrast",
            "disabled": false,
            "icon": "",
            "layout": "IPY_MODEL_1211d5ab3a454ed9b5ad393691acfdb0",
            "style": "IPY_MODEL_fabd8b8d2e6749eab40738f224be42ad",
            "tooltip": ""
          }
        },
        "1211d5ab3a454ed9b5ad393691acfdb0": {
          "model_module": "@jupyter-widgets/base",
          "model_name": "LayoutModel",
          "model_module_version": "1.2.0",
          "state": {
            "_model_module": "@jupyter-widgets/base",
            "_model_module_version": "1.2.0",
            "_model_name": "LayoutModel",
            "_view_count": null,
            "_view_module": "@jupyter-widgets/base",
            "_view_module_version": "1.2.0",
            "_view_name": "LayoutView",
            "align_content": null,
            "align_items": null,
            "align_self": null,
            "border": null,
            "bottom": null,
            "display": null,
            "flex": null,
            "flex_flow": null,
            "grid_area": null,
            "grid_auto_columns": null,
            "grid_auto_flow": null,
            "grid_auto_rows": null,
            "grid_column": null,
            "grid_gap": null,
            "grid_row": null,
            "grid_template_areas": null,
            "grid_template_columns": null,
            "grid_template_rows": null,
            "height": null,
            "justify_content": null,
            "justify_items": null,
            "left": null,
            "margin": null,
            "max_height": null,
            "max_width": null,
            "min_height": null,
            "min_width": null,
            "object_fit": null,
            "object_position": null,
            "order": null,
            "overflow": null,
            "overflow_x": null,
            "overflow_y": null,
            "padding": null,
            "right": null,
            "top": null,
            "visibility": null,
            "width": null
          }
        },
        "fabd8b8d2e6749eab40738f224be42ad": {
          "model_module": "@jupyter-widgets/controls",
          "model_name": "ButtonStyleModel",
          "model_module_version": "1.5.0",
          "state": {
            "_model_module": "@jupyter-widgets/controls",
            "_model_module_version": "1.5.0",
            "_model_name": "ButtonStyleModel",
            "_view_count": null,
            "_view_module": "@jupyter-widgets/base",
            "_view_module_version": "1.2.0",
            "_view_name": "StyleView",
            "button_color": null,
            "font_weight": ""
          }
        }
      }
    }
  },
  "cells": [
    {
      "cell_type": "code",
      "source": [
        "from google.colab import drive\n",
        "drive.mount('/content/drive')"
      ],
      "metadata": {
        "colab": {
          "base_uri": "https://localhost:8080/"
        },
        "id": "DoM5UuPI4wFh",
        "outputId": "d7b47dad-5ff1-4223-bdf5-a2030c3c6a36"
      },
      "execution_count": null,
      "outputs": [
        {
          "output_type": "stream",
          "name": "stdout",
          "text": [
            "Mounted at /content/drive\n"
          ]
        }
      ]
    },
    {
      "cell_type": "code",
      "source": [
        "from PIL import Image, ImageDraw, ImageFont\n",
        "import numpy as np\n",
        "from matplotlib import cm\n",
        "import random\n",
        "import string\n",
        "\n",
        "\n",
        "def generateRandomSample(fontPath, picSize=(400*4,50*4)):\n",
        "  im = Image.new('RGB', picSize, color=('#FFFFFF'))\n",
        "  font = ImageFont.truetype(fontPath, size=80)\n",
        "  draw_text = ImageDraw.Draw(im)\n",
        "  draw_text.text(\n",
        "      (5, 5),\n",
        "      generate_random_string(20),\n",
        "      font=font,\n",
        "      fill='#000000')\n",
        "  return im\n",
        "\n",
        "\n",
        "def generate_random_string(length):\n",
        "  letters = string.ascii_letters\n",
        "  rand_string = ''.join(random.choice(letters) for i in range(length))\n",
        "  # print(\"Random string of length\", length, \"is:\", rand_string)\n",
        "  return \"ABCDEFGHIJKLMNOPQRSTUVWXY\\nabcdefghijklmnopqrstuvwxyz\"\n",
        "  # return rand_string"
      ],
      "metadata": {
        "id": "FJ0DSNLK3p_Z"
      },
      "execution_count": null,
      "outputs": []
    },
    {
      "cell_type": "code",
      "source": [
        "contrast = ('High Contrast', 'nonHC')\n",
        "classificationArr = ('Display', 'Sans Serif', 'Serif', 'Monospaced', 'Handwritten')"
      ],
      "metadata": {
        "id": "ZE2WiQLBEZM5"
      },
      "execution_count": null,
      "outputs": []
    },
    {
      "cell_type": "code",
      "source": [
        "contrast"
      ],
      "metadata": {
        "colab": {
          "base_uri": "https://localhost:8080/",
          "height": 35
        },
        "id": "hkLV4VMwFBmO",
        "outputId": "60ed0df8-bf43-4221-c0d2-6874b9735c5b"
      },
      "execution_count": null,
      "outputs": [
        {
          "output_type": "execute_result",
          "data": {
            "text/plain": [
              "'nonHC'"
            ],
            "application/vnd.google.colaboratory.intrinsic+json": {
              "type": "string"
            }
          },
          "metadata": {},
          "execution_count": 17
        }
      ]
    },
    {
      "cell_type": "code",
      "source": [
        "import os\n",
        "\n",
        "base = []\n",
        "num_skipped = 0\n",
        "cnt = 0\n",
        "for folder_name in (contrast):\n",
        "    folder_path = os.path.join(\"/content/drive/MyDrive/colabData/fontData/data/contrast/\", folder_name)\n",
        "    for fname in os.listdir(folder_path):\n",
        "        cnt += 1\n",
        "        fpath = os.path.join(folder_path, fname)\n",
        "        # print(fpath)\n",
        "        # print('/content/drive/MyDrive/colabData/fontData/data/img/'+folder_name+'/'+fname[:-4]+'.png')\n",
        "        # fullName = '/content/drive/MyDrive/colabData/fontData/data/img/'+folder_name+'/'+fname[:-4]+'.jpg'\n",
        "        # for i in range(20):\n",
        "        base.append({'name':fname, 'image':generateRandomSample(fpath)})\n",
        "          # print(\"!\")\n",
        "    #     if cnt == 5:\n",
        "    #       break\n",
        "    # break\n",
        "    print('Подготовлено шрифтов:', cnt)\n",
        "# base"
      ],
      "metadata": {
        "colab": {
          "base_uri": "https://localhost:8080/"
        },
        "id": "vHyE0ALc3FA3",
        "outputId": "edee0bbf-1e33-406e-937a-792ceb3c685a"
      },
      "execution_count": null,
      "outputs": [
        {
          "output_type": "stream",
          "name": "stdout",
          "text": [
            "Подготовлено шрифтов: 4\n",
            "Подготовлено шрифтов: 730\n"
          ]
        }
      ]
    },
    {
      "cell_type": "code",
      "metadata": {
        "id": "47M7GNKqu5p-",
        "colab": {
          "base_uri": "https://localhost:8080/"
        },
        "outputId": "9c4ddc00-fb73-4524-e913-ec7c61009f54"
      },
      "source": [
        "!pip install pyaztro"
      ],
      "execution_count": null,
      "outputs": [
        {
          "output_type": "stream",
          "name": "stdout",
          "text": [
            "Requirement already satisfied: pyaztro in /usr/local/lib/python3.7/dist-packages (0.3)\n",
            "Requirement already satisfied: requests in /usr/local/lib/python3.7/dist-packages (from pyaztro) (2.23.0)\n",
            "Requirement already satisfied: python-dateutil in /usr/local/lib/python3.7/dist-packages (from pyaztro) (2.8.2)\n",
            "Requirement already satisfied: six>=1.5 in /usr/local/lib/python3.7/dist-packages (from python-dateutil->pyaztro) (1.15.0)\n",
            "Requirement already satisfied: chardet<4,>=3.0.2 in /usr/local/lib/python3.7/dist-packages (from requests->pyaztro) (3.0.4)\n",
            "Requirement already satisfied: certifi>=2017.4.17 in /usr/local/lib/python3.7/dist-packages (from requests->pyaztro) (2021.10.8)\n",
            "Requirement already satisfied: idna<3,>=2.5 in /usr/local/lib/python3.7/dist-packages (from requests->pyaztro) (2.10)\n",
            "Requirement already satisfied: urllib3!=1.25.0,!=1.25.1,<1.26,>=1.21.1 in /usr/local/lib/python3.7/dist-packages (from requests->pyaztro) (1.24.3)\n"
          ]
        }
      ]
    },
    {
      "cell_type": "code",
      "source": [
        "import pyaztro\n",
        "from google.colab import widgets\n",
        "import ipywidgets\n",
        "from IPython.display import display, clear_output\n",
        "import pandas as pd"
      ],
      "metadata": {
        "id": "6bn30nvLuJL_"
      },
      "execution_count": null,
      "outputs": []
    },
    {
      "cell_type": "code",
      "source": [
        "classify = []"
      ],
      "metadata": {
        "id": "jG51qyIKyg53"
      },
      "execution_count": null,
      "outputs": []
    },
    {
      "cell_type": "code",
      "source": [
        "def setup():\n",
        "  global name\n",
        "  img = base.pop()\n",
        "  grid = widgets.Grid(1, 2, header_row=True, header_column=True) \n",
        "  newsize = (400*4, 50*4)\n",
        "  display(img['image'].resize(newsize))\n",
        "  name = img['name']\n",
        "  for (row, col) in grid:\n",
        "    index = row*6+col\n",
        "    # print(\"\\n\")\n",
        "    # print(\"\\n\"+\"Choose!\"+\"\\n\")\n",
        "    display(button_list[index])"
      ],
      "metadata": {
        "id": "YbcuKtOFrSJX"
      },
      "execution_count": null,
      "outputs": []
    },
    {
      "cell_type": "code",
      "source": [
        "# myIterator = 0\n",
        "name = ''\n",
        "def on_button_clicked(button):\n",
        "  # Display the message within the output widget.\n",
        "  # with output:\n",
        "  global name\n",
        "  clear_output()\n",
        "  sign_name = str(button.description)\n",
        "  # next = myIterator+1\n",
        "  classify.append((name, sign_name))\n",
        "  \n",
        "  print(name, 'save as', sign_name)\n",
        "  # with grid.output_to(0, 0):\n",
        "  #   display(image_name[(1)]['image'].resize(newsize))\n",
        "  setup()\n",
        "  "
      ],
      "metadata": {
        "id": "qeolJWJnq_FK"
      },
      "execution_count": null,
      "outputs": []
    },
    {
      "cell_type": "code",
      "source": [
        "category = ['Display', 'Handwritten', 'Monospased', 'Sans Serif', 'Serif']\n",
        "# category = ['High Contrast', 'None High Contrast']\n",
        "button_list = []\n",
        "for i in range(0,2):\n",
        "  button = ipywidgets.widgets.Button(description=category[i])\n",
        "  button.on_click(on_button_clicked)\n",
        "  button_list.append(button)  \n",
        "# def a():\n",
        "#   setup()"
      ],
      "metadata": {
        "id": "nnskzEe4oW8U"
      },
      "execution_count": null,
      "outputs": []
    },
    {
      "cell_type": "code",
      "source": [
        "setup()"
      ],
      "metadata": {
        "colab": {
          "base_uri": "https://localhost:8080/",
          "height": 248,
          "referenced_widgets": [
            "65b1f586548444d6b7e3cdf880d2c28c",
            "f60d3e23dbed40b3a2599f0fcc2b8ec4",
            "174f14fe1d87492ab035671ff314c633",
            "8219fa10565145918e31d53212df9b70",
            "1211d5ab3a454ed9b5ad393691acfdb0",
            "fabd8b8d2e6749eab40738f224be42ad"
          ]
        },
        "id": "UT0UG8JTslVe",
        "outputId": "3edc1067-695c-4961-ac3b-7e1b954f1e6d"
      },
      "execution_count": null,
      "outputs": [
        {
          "output_type": "stream",
          "name": "stdout",
          "text": [
            "Playball.ttf save as High Contrast\n"
          ]
        },
        {
          "output_type": "display_data",
          "data": {
            "text/plain": [
              "<IPython.core.display.HTML object>"
            ],
            "text/html": [
              "<style>\n",
              "       table#id406, #id406 > tbody > tr > th, #id406 > tbody > tr > td {\n",
              "         border: 1px solid lightgray;\n",
              "         border-collapse:collapse;\n",
              "         \n",
              "        }</style>"
            ]
          },
          "metadata": {}
        },
        {
          "output_type": "display_data",
          "data": {
            "text/plain": [
              "<IPython.core.display.HTML object>"
            ],
            "text/html": [
              "<table id=id406><tr><th id=id406-0-0></th><th id=id406-0-1></th></tr></table>"
            ]
          },
          "metadata": {}
        },
        {
          "output_type": "display_data",
          "data": {
            "text/plain": [
              "<PIL.Image.Image image mode=RGB size=1600x200 at 0x7FD85DCA3C90>"
            ],
            "image/png": "[encoded data removed]"
          },
          "metadata": {}
        },
        {
          "output_type": "display_data",
          "data": {
            "text/plain": [
              "<IPython.core.display.Javascript object>"
            ],
            "application/javascript": [
              "window[\"82fbc80a-b6c3-11ec-b9fc-0242ac1c0002\"] = google.colab.output.getActiveOutputArea();\n",
              "//# sourceURL=js_8aeef3a8d8"
            ]
          },
          "metadata": {}
        },
        {
          "output_type": "display_data",
          "data": {
            "text/plain": [
              "<IPython.core.display.Javascript object>"
            ],
            "application/javascript": [
              "window[\"82fc5aa4-b6c3-11ec-b9fc-0242ac1c0002\"] = document.querySelector(\"#id406-0-0\");\n",
              "//# sourceURL=js_65b4d6ac45"
            ]
          },
          "metadata": {}
        },
        {
          "output_type": "display_data",
          "data": {
            "text/plain": [
              "<IPython.core.display.Javascript object>"
            ],
            "application/javascript": [
              "window[\"82fcaca2-b6c3-11ec-b9fc-0242ac1c0002\"] = google.colab.output.setActiveOutputArea(window[\"82fc5aa4-b6c3-11ec-b9fc-0242ac1c0002\"]);\n",
              "//# sourceURL=js_e8a1984ee4"
            ]
          },
          "metadata": {}
        },
        {
          "output_type": "display_data",
          "data": {
            "text/plain": [
              "Button(description='High Contrast', style=ButtonStyle())"
            ],
            "application/vnd.jupyter.widget-view+json": {
              "version_major": 2,
              "version_minor": 0,
              "model_id": "65b1f586548444d6b7e3cdf880d2c28c"
            }
          },
          "metadata": {}
        },
        {
          "output_type": "display_data",
          "data": {
            "text/plain": [
              "<IPython.core.display.Javascript object>"
            ],
            "application/javascript": [
              "window[\"82fe8c5c-b6c3-11ec-b9fc-0242ac1c0002\"] = google.colab.output.setActiveOutputArea(window[\"82fbc80a-b6c3-11ec-b9fc-0242ac1c0002\"]);\n",
              "//# sourceURL=js_81e6af4ff6"
            ]
          },
          "metadata": {}
        },
        {
          "output_type": "display_data",
          "data": {
            "text/plain": [
              "<IPython.core.display.Javascript object>"
            ],
            "application/javascript": [
              "window[\"8300e5b0-b6c3-11ec-b9fc-0242ac1c0002\"] = google.colab.output.getActiveOutputArea();\n",
              "//# sourceURL=js_233a96d81c"
            ]
          },
          "metadata": {}
        },
        {
          "output_type": "display_data",
          "data": {
            "text/plain": [
              "<IPython.core.display.Javascript object>"
            ],
            "application/javascript": [
              "window[\"830125fc-b6c3-11ec-b9fc-0242ac1c0002\"] = document.querySelector(\"#id406-0-1\");\n",
              "//# sourceURL=js_b3d7d06195"
            ]
          },
          "metadata": {}
        },
        {
          "output_type": "display_data",
          "data": {
            "text/plain": [
              "<IPython.core.display.Javascript object>"
            ],
            "application/javascript": [
              "window[\"8301a3f6-b6c3-11ec-b9fc-0242ac1c0002\"] = google.colab.output.setActiveOutputArea(window[\"830125fc-b6c3-11ec-b9fc-0242ac1c0002\"]);\n",
              "//# sourceURL=js_93fa6f8cd6"
            ]
          },
          "metadata": {}
        },
        {
          "output_type": "display_data",
          "data": {
            "text/plain": [
              "Button(description='None High Contrast', style=ButtonStyle())"
            ],
            "application/vnd.jupyter.widget-view+json": {
              "version_major": 2,
              "version_minor": 0,
              "model_id": "8219fa10565145918e31d53212df9b70"
            }
          },
          "metadata": {}
        },
        {
          "output_type": "display_data",
          "data": {
            "text/plain": [
              "<IPython.core.display.Javascript object>"
            ],
            "application/javascript": [
              "window[\"8302d280-b6c3-11ec-b9fc-0242ac1c0002\"] = google.colab.output.setActiveOutputArea(window[\"8300e5b0-b6c3-11ec-b9fc-0242ac1c0002\"]);\n",
              "//# sourceURL=js_44e93ccb8a"
            ]
          },
          "metadata": {}
        }
      ]
    },
    {
      "cell_type": "code",
      "source": [
        "classify[0][0]"
      ],
      "metadata": {
        "colab": {
          "base_uri": "https://localhost:8080/",
          "height": 35
        },
        "id": "V1LAmEmzy7s1",
        "outputId": "d44c9d29-3930-4caa-ec93-f0783f89dd41"
      },
      "execution_count": null,
      "outputs": [
        {
          "output_type": "execute_result",
          "data": {
            "text/plain": [
              "'Zilla Slab.ttf'"
            ],
            "application/vnd.google.colaboratory.intrinsic+json": {
              "type": "string"
            }
          },
          "metadata": {},
          "execution_count": 45
        }
      ]
    },
    {
      "cell_type": "markdown",
      "source": [],
      "metadata": {
        "id": "2EkcyNW1Nlve"
      }
    },
    {
      "cell_type": "code",
      "source": [
        "classify[0]"
      ],
      "metadata": {
        "colab": {
          "base_uri": "https://localhost:8080/"
        },
        "id": "-wt-wqzdM-x4",
        "outputId": "e6af4d93-2a2d-4fed-8e32-39ee43fc811d"
      },
      "execution_count": null,
      "outputs": [
        {
          "output_type": "execute_result",
          "data": {
            "text/plain": [
              "('Zilla Slab.ttf', 'None High Contrast')"
            ]
          },
          "metadata": {},
          "execution_count": 48
        }
      ]
    },
    {
      "cell_type": "code",
      "source": [
        "import os\n",
        "\n",
        "ratio = [1]\n",
        "num_skipped = 0\n",
        "cnt = 0\n",
        "# for idx, folder_name in enumerate(['High Contrast', 'None High Contrast']):\n",
        "folder_path = \"/content/drive/MyDrive/colabData/fontData/data/contrast/nonHC/\"\n",
        "cnt = 0\n",
        "for fname in classify:\n",
        "    if fname[0] in os.listdir(folder_path):\n",
        "      cnt += 1\n",
        "      fpath = os.path.join(folder_path, fname[0])\n",
        "      folder_name = fname[1]\n",
        "      # print(fpath)\n",
        "      os.replace(fpath, '/content/drive/MyDrive/colabData/fontData/data/manualContrast/'+folder_name+'/'+fname[0])\n",
        "      # print(fpath)\n",
        "      # print('/content/drive/MyDrive/colabData/fontData/data/img/'+folder_name+'/'+fname[:-4]+'.png')\n",
        "      # fullName = '/content/drive/MyDrive/colabData/fontData/data/img/'+folder_name+'/'+fname[:-4]+'.jpg'\n",
        "      samples = 20\n",
        "      quantity = int(max(ratio)/ratio[0])\n",
        "      # for i in range(samples):\n",
        "      #   generateRandomSample(fpath).save('/content/drive/MyDrive/colabData/fontData/data/manualContrast/'+folder_name+'/'+fname[0][:-4]+str(i)+'.jpg')\n",
        "      # print(\"!\")\n",
        "#     if cnt == 5:\n",
        "#       break\n",
        "# break\n",
        "print('Подготовлено шрифтов типа {}: {} в количестве {}x{} экземпляров на один шрифт'.format(folder_name, cnt, samples, quantity))"
      ],
      "metadata": {
        "id": "raHg08icLyjM"
      },
      "execution_count": null,
      "outputs": []
    },
    {
      "cell_type": "code",
      "source": [],
      "metadata": {
        "id": "2XthlpKiQA8t"
      },
      "execution_count": null,
      "outputs": []
    }
  ]
}