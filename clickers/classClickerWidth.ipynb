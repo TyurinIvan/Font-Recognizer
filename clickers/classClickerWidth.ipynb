{
  "nbformat": 4,
  "nbformat_minor": 0,
  "metadata": {
    "colab": {
      "provenance": [],
      "collapsed_sections": []
    },
    "kernelspec": {
      "name": "python3",
      "display_name": "Python 3"
    },
    "widgets": {
      "application/vnd.jupyter.widget-state+json": {
        "708710d0ef0c4ce2814500cc8b1c121e": {
          "model_module": "@jupyter-widgets/controls",
          "model_name": "ButtonModel",
          "model_module_version": "1.5.0",
          "state": {
            "_dom_classes": [],
            "_model_module": "@jupyter-widgets/controls",
            "_model_module_version": "1.5.0",
            "_model_name": "ButtonModel",
            "_view_count": null,
            "_view_module": "@jupyter-widgets/controls",
            "_view_module_version": "1.5.0",
            "_view_name": "ButtonView",
            "button_style": "",
            "description": "Condensed",
            "disabled": false,
            "icon": "",
            "layout": "IPY_MODEL_4c2a94bf6a05432988cce0c9b42383c6",
            "style": "IPY_MODEL_5fcb2ad2dae74068b2a92f95ce42b2d7",
            "tooltip": ""
          }
        },
        "4c2a94bf6a05432988cce0c9b42383c6": {
          "model_module": "@jupyter-widgets/base",
          "model_name": "LayoutModel",
          "model_module_version": "1.2.0",
          "state": {
            "_model_module": "@jupyter-widgets/base",
            "_model_module_version": "1.2.0",
            "_model_name": "LayoutModel",
            "_view_count": null,
            "_view_module": "@jupyter-widgets/base",
            "_view_module_version": "1.2.0",
            "_view_name": "LayoutView",
            "align_content": null,
            "align_items": null,
            "align_self": null,
            "border": null,
            "bottom": null,
            "display": null,
            "flex": null,
            "flex_flow": null,
            "grid_area": null,
            "grid_auto_columns": null,
            "grid_auto_flow": null,
            "grid_auto_rows": null,
            "grid_column": null,
            "grid_gap": null,
            "grid_row": null,
            "grid_template_areas": null,
            "grid_template_columns": null,
            "grid_template_rows": null,
            "height": null,
            "justify_content": null,
            "justify_items": null,
            "left": null,
            "margin": null,
            "max_height": null,
            "max_width": null,
            "min_height": null,
            "min_width": null,
            "object_fit": null,
            "object_position": null,
            "order": null,
            "overflow": null,
            "overflow_x": null,
            "overflow_y": null,
            "padding": null,
            "right": null,
            "top": null,
            "visibility": null,
            "width": null
          }
        },
        "5fcb2ad2dae74068b2a92f95ce42b2d7": {
          "model_module": "@jupyter-widgets/controls",
          "model_name": "ButtonStyleModel",
          "model_module_version": "1.5.0",
          "state": {
            "_model_module": "@jupyter-widgets/controls",
            "_model_module_version": "1.5.0",
            "_model_name": "ButtonStyleModel",
            "_view_count": null,
            "_view_module": "@jupyter-widgets/base",
            "_view_module_version": "1.2.0",
            "_view_name": "StyleView",
            "button_color": null,
            "font_weight": ""
          }
        },
        "95353b5c73ca4fc8a4b1ad4dce7c2a63": {
          "model_module": "@jupyter-widgets/controls",
          "model_name": "ButtonModel",
          "model_module_version": "1.5.0",
          "state": {
            "_dom_classes": [],
            "_model_module": "@jupyter-widgets/controls",
            "_model_module_version": "1.5.0",
            "_model_name": "ButtonModel",
            "_view_count": null,
            "_view_module": "@jupyter-widgets/controls",
            "_view_module_version": "1.5.0",
            "_view_name": "ButtonView",
            "button_style": "",
            "description": "Narrow",
            "disabled": false,
            "icon": "",
            "layout": "IPY_MODEL_7ec175a4f751451d957e2612b265584d",
            "style": "IPY_MODEL_3bf90e3a44a448c1878f64d39f8068cd",
            "tooltip": ""
          }
        },
        "7ec175a4f751451d957e2612b265584d": {
          "model_module": "@jupyter-widgets/base",
          "model_name": "LayoutModel",
          "model_module_version": "1.2.0",
          "state": {
            "_model_module": "@jupyter-widgets/base",
            "_model_module_version": "1.2.0",
            "_model_name": "LayoutModel",
            "_view_count": null,
            "_view_module": "@jupyter-widgets/base",
            "_view_module_version": "1.2.0",
            "_view_name": "LayoutView",
            "align_content": null,
            "align_items": null,
            "align_self": null,
            "border": null,
            "bottom": null,
            "display": null,
            "flex": null,
            "flex_flow": null,
            "grid_area": null,
            "grid_auto_columns": null,
            "grid_auto_flow": null,
            "grid_auto_rows": null,
            "grid_column": null,
            "grid_gap": null,
            "grid_row": null,
            "grid_template_areas": null,
            "grid_template_columns": null,
            "grid_template_rows": null,
            "height": null,
            "justify_content": null,
            "justify_items": null,
            "left": null,
            "margin": null,
            "max_height": null,
            "max_width": null,
            "min_height": null,
            "min_width": null,
            "object_fit": null,
            "object_position": null,
            "order": null,
            "overflow": null,
            "overflow_x": null,
            "overflow_y": null,
            "padding": null,
            "right": null,
            "top": null,
            "visibility": null,
            "width": null
          }
        },
        "3bf90e3a44a448c1878f64d39f8068cd": {
          "model_module": "@jupyter-widgets/controls",
          "model_name": "ButtonStyleModel",
          "model_module_version": "1.5.0",
          "state": {
            "_model_module": "@jupyter-widgets/controls",
            "_model_module_version": "1.5.0",
            "_model_name": "ButtonStyleModel",
            "_view_count": null,
            "_view_module": "@jupyter-widgets/base",
            "_view_module_version": "1.2.0",
            "_view_name": "StyleView",
            "button_color": null,
            "font_weight": ""
          }
        },
        "a625b89085734ce6b9399dbd96158d56": {
          "model_module": "@jupyter-widgets/controls",
          "model_name": "ButtonModel",
          "model_module_version": "1.5.0",
          "state": {
            "_dom_classes": [],
            "_model_module": "@jupyter-widgets/controls",
            "_model_module_version": "1.5.0",
            "_model_name": "ButtonModel",
            "_view_count": null,
            "_view_module": "@jupyter-widgets/controls",
            "_view_module_version": "1.5.0",
            "_view_name": "ButtonView",
            "button_style": "",
            "description": "Wide",
            "disabled": false,
            "icon": "",
            "layout": "IPY_MODEL_684a487f333a4dd1b15bfb75bcd2d658",
            "style": "IPY_MODEL_2bc580e8aba24a8eb3b000f026525ca5",
            "tooltip": ""
          }
        },
        "684a487f333a4dd1b15bfb75bcd2d658": {
          "model_module": "@jupyter-widgets/base",
          "model_name": "LayoutModel",
          "model_module_version": "1.2.0",
          "state": {
            "_model_module": "@jupyter-widgets/base",
            "_model_module_version": "1.2.0",
            "_model_name": "LayoutModel",
            "_view_count": null,
            "_view_module": "@jupyter-widgets/base",
            "_view_module_version": "1.2.0",
            "_view_name": "LayoutView",
            "align_content": null,
            "align_items": null,
            "align_self": null,
            "border": null,
            "bottom": null,
            "display": null,
            "flex": null,
            "flex_flow": null,
            "grid_area": null,
            "grid_auto_columns": null,
            "grid_auto_flow": null,
            "grid_auto_rows": null,
            "grid_column": null,
            "grid_gap": null,
            "grid_row": null,
            "grid_template_areas": null,
            "grid_template_columns": null,
            "grid_template_rows": null,
            "height": null,
            "justify_content": null,
            "justify_items": null,
            "left": null,
            "margin": null,
            "max_height": null,
            "max_width": null,
            "min_height": null,
            "min_width": null,
            "object_fit": null,
            "object_position": null,
            "order": null,
            "overflow": null,
            "overflow_x": null,
            "overflow_y": null,
            "padding": null,
            "right": null,
            "top": null,
            "visibility": null,
            "width": null
          }
        },
        "2bc580e8aba24a8eb3b000f026525ca5": {
          "model_module": "@jupyter-widgets/controls",
          "model_name": "ButtonStyleModel",
          "model_module_version": "1.5.0",
          "state": {
            "_model_module": "@jupyter-widgets/controls",
            "_model_module_version": "1.5.0",
            "_model_name": "ButtonStyleModel",
            "_view_count": null,
            "_view_module": "@jupyter-widgets/base",
            "_view_module_version": "1.2.0",
            "_view_name": "StyleView",
            "button_color": null,
            "font_weight": ""
          }
        }
      }
    }
  },
  "cells": [
    {
      "cell_type": "code",
      "source": [
        "import requests\n",
        "\n",
        "def download_file_from_google_drive(id, destination):\n",
        "    URL = \"https://docs.google.com/uc?export=download\"\n",
        "\n",
        "    session = requests.Session()\n",
        "\n",
        "    response = session.get(URL, params = { 'id' : id }, stream = True)\n",
        "    token = get_confirm_token(response)\n",
        "\n",
        "    if token:\n",
        "        params = { 'id' : id, 'confirm' : token }\n",
        "        response = session.get(URL, params = params, stream = True)\n",
        "\n",
        "    save_response_content(response, destination)    \n",
        "\n",
        "def get_confirm_token(response):\n",
        "    for key, value in response.cookies.items():\n",
        "        if key.startswith('download_warning'):\n",
        "            return value\n",
        "\n",
        "    return None\n",
        "\n",
        "def save_response_content(response, destination):\n",
        "    CHUNK_SIZE = 32768\n",
        "\n",
        "    with open(destination, \"wb\") as f:\n",
        "        for chunk in response.iter_content(CHUNK_SIZE):\n",
        "            if chunk: # filter out keep-alive new chunks\n",
        "                f.write(chunk)\n",
        "\n",
        "\n",
        "file_id = '1004KxCA9-n6PqkIgJhQ7tmhU6E3kET_I'\n",
        "destination = '/content/width.zip'\n",
        "download_file_from_google_drive(file_id, destination)\n",
        "# file_id = '1-2ppopy7ReKhpZXcyRKETf55XNlls60R'\n",
        "# destination = '/content/weight.zip'\n",
        "# download_file_from_google_drive(file_id, destination)\n",
        "\n",
        "# !unzip -q weight.zip\n",
        "!unzip -q width.zip -d /content/data\n",
        "!ls"
      ],
      "metadata": {
        "colab": {
          "base_uri": "https://localhost:8080/"
        },
        "id": "gXroapfIt-iA",
        "outputId": "1adf87cf-edc9-42c5-d524-97b4c39a74bf"
      },
      "execution_count": null,
      "outputs": [
        {
          "output_type": "stream",
          "name": "stdout",
          "text": [
            "data  sample_data  width.zip\n"
          ]
        }
      ]
    },
    {
      "cell_type": "code",
      "source": [
        "from PIL import Image, ImageDraw, ImageFont\n",
        "import numpy as np\n",
        "from matplotlib import cm\n",
        "import random\n",
        "import string\n",
        "\n",
        "\n",
        "def generateRandomSample(fontPath, picSize=(400*4,50*4)):\n",
        "  im = Image.new('RGB', picSize, color=('#FFFFFF'))\n",
        "  font = ImageFont.truetype(fontPath, size=80)\n",
        "  draw_text = ImageDraw.Draw(im)\n",
        "  draw_text.text(\n",
        "      (5, 5),\n",
        "      generate_random_string(20),\n",
        "      font=font,\n",
        "      fill='#000000')\n",
        "  return im\n",
        "\n",
        "\n",
        "def generate_random_string(length):\n",
        "  letters = string.ascii_letters\n",
        "  rand_string = ''.join(random.choice(letters) for i in range(length))\n",
        "  # print(\"Random string of length\", length, \"is:\", rand_string)\n",
        "  return \"ABCDEFGHIJKLMNOPQRSTUVWXY\\nabcdefghijklmnopqrstuvwxyz\"\n",
        "  # return rand_string"
      ],
      "metadata": {
        "id": "FJ0DSNLK3p_Z"
      },
      "execution_count": null,
      "outputs": []
    },
    {
      "cell_type": "code",
      "source": [
        "contrast = ('High Contrast', 'nonHC')\n",
        "classificationArr = ('Display', 'Sans Serif', 'Serif', 'Monospaced', 'Handwritten')\n",
        "weighArr = ('0ultralight', '1thin', '2light', '3regular', '4medium', '5semibold', '6bold', '7heavy', '8black')\n",
        "weighArrStr = ('100', '200', '300', 'regular', '500', '600', '700', '800', '900')\n",
        "widthArr = ('Condensed', 'Narrow', 'Wide')\n",
        "\n",
        "category = widthArr"
      ],
      "metadata": {
        "id": "ZE2WiQLBEZM5"
      },
      "execution_count": null,
      "outputs": []
    },
    {
      "cell_type": "code",
      "source": [
        "import os\n",
        "\n",
        "\n",
        "path_to_fonts     = \"/content/data\"\n",
        "# path_to_save_data = \"/content/drive/MyDrive/colabData/fontData/data/manualClassification/\"\n",
        "# path_to_all_fonts = \"/content/drive/MyDrive/colabData/fontData/allFonts\"\n",
        "\n",
        "base = []\n",
        "num_skipped = 0\n",
        "cnt = 0\n",
        "for folder_name in (category):\n",
        "    folder_path = os.path.join(path_to_fonts, folder_name)\n",
        "    for fname in os.listdir(folder_path):\n",
        "        cnt += 1\n",
        "        fpath = os.path.join(folder_path, fname)\n",
        "        # print(fpath)\n",
        "        # print('/content/drive/MyDrive/colabData/fontData/data/img/'+folder_name+'/'+fname[:-4]+'.png')\n",
        "        # fullName = '/content/drive/MyDrive/colabData/fontData/data/img/'+folder_name+'/'+fname[:-4]+'.jpg'\n",
        "        # for i in range(20):\n",
        "        base.append({'name':fname, 'image':generateRandomSample(fpath)})\n",
        "          # print(\"!\")\n",
        "    #     if cnt == 5:\n",
        "    #       break\n",
        "    # break\n",
        "    print('Подготовлено шрифтов:', cnt)\n",
        "# base"
      ],
      "metadata": {
        "colab": {
          "base_uri": "https://localhost:8080/"
        },
        "id": "vHyE0ALc3FA3",
        "outputId": "bfb5665d-064d-427e-b0b5-4aca879bc084"
      },
      "execution_count": null,
      "outputs": [
        {
          "output_type": "stream",
          "name": "stdout",
          "text": [
            "Подготовлено шрифтов: 38\n",
            "Подготовлено шрифтов: 135\n",
            "Подготовлено шрифтов: 166\n"
          ]
        }
      ]
    },
    {
      "cell_type": "code",
      "metadata": {
        "id": "47M7GNKqu5p-",
        "colab": {
          "base_uri": "https://localhost:8080/"
        },
        "outputId": "54bb87bb-add7-4414-ebf4-0dd47249d54d"
      },
      "source": [
        "!pip install pyaztro"
      ],
      "execution_count": null,
      "outputs": [
        {
          "output_type": "stream",
          "name": "stdout",
          "text": [
            "Collecting pyaztro\n",
            "  Downloading pyaztro-0.3-py3-none-any.whl (4.9 kB)\n",
            "Requirement already satisfied: requests in /usr/local/lib/python3.7/dist-packages (from pyaztro) (2.23.0)\n",
            "Requirement already satisfied: python-dateutil in /usr/local/lib/python3.7/dist-packages (from pyaztro) (2.8.2)\n",
            "Requirement already satisfied: six>=1.5 in /usr/local/lib/python3.7/dist-packages (from python-dateutil->pyaztro) (1.15.0)\n",
            "Requirement already satisfied: idna<3,>=2.5 in /usr/local/lib/python3.7/dist-packages (from requests->pyaztro) (2.10)\n",
            "Requirement already satisfied: chardet<4,>=3.0.2 in /usr/local/lib/python3.7/dist-packages (from requests->pyaztro) (3.0.4)\n",
            "Requirement already satisfied: urllib3!=1.25.0,!=1.25.1,<1.26,>=1.21.1 in /usr/local/lib/python3.7/dist-packages (from requests->pyaztro) (1.24.3)\n",
            "Requirement already satisfied: certifi>=2017.4.17 in /usr/local/lib/python3.7/dist-packages (from requests->pyaztro) (2021.10.8)\n",
            "Installing collected packages: pyaztro\n",
            "Successfully installed pyaztro-0.3\n"
          ]
        }
      ]
    },
    {
      "cell_type": "code",
      "source": [
        "import pyaztro\n",
        "from google.colab import widgets\n",
        "import ipywidgets\n",
        "from IPython.display import display, clear_output\n",
        "import pandas as pd"
      ],
      "metadata": {
        "id": "6bn30nvLuJL_"
      },
      "execution_count": null,
      "outputs": []
    },
    {
      "cell_type": "code",
      "source": [
        "classify = []"
      ],
      "metadata": {
        "id": "jG51qyIKyg53"
      },
      "execution_count": null,
      "outputs": []
    },
    {
      "cell_type": "code",
      "source": [
        "def setup():\n",
        "  global name\n",
        "  img = base.pop()\n",
        "  grid = widgets.Grid(1, len(category), header_row=True, header_column=True) \n",
        "  newsize = (400*4, 50*4)\n",
        "  display(img['image'].resize(newsize))\n",
        "  name = img['name']\n",
        "  for (row, col) in grid:\n",
        "    index = row*6+col\n",
        "    # print(\"\\n\")\n",
        "    # print(\"\\n\"+\"Choose!\"+\"\\n\")\n",
        "    display(button_list[index])"
      ],
      "metadata": {
        "id": "YbcuKtOFrSJX"
      },
      "execution_count": null,
      "outputs": []
    },
    {
      "cell_type": "code",
      "source": [
        "# myIterator = 0\n",
        "name = ''\n",
        "def on_button_clicked(button):\n",
        "  # Display the message within the output widget.\n",
        "  # with output:\n",
        "  global name\n",
        "  clear_output()\n",
        "  sign_name = str(button.description)\n",
        "  # next = myIterator+1\n",
        "  classify.append((name, sign_name))\n",
        "  \n",
        "  print(name, 'save as', sign_name)\n",
        "  # with grid.output_to(0, 0):\n",
        "  #   display(image_name[(1)]['image'].resize(newsize))\n",
        "  setup()\n",
        "  "
      ],
      "metadata": {
        "id": "qeolJWJnq_FK"
      },
      "execution_count": null,
      "outputs": []
    },
    {
      "cell_type": "code",
      "source": [
        "# category = ['Display', 'Handwritten', 'Monospased', 'Sans Serif', 'Serif']\n",
        "# category = ['High Contrast', 'None High Contrast']\n",
        "button_list = []\n",
        "for i in range(0,len(category)):\n",
        "  button = ipywidgets.widgets.Button(description=category[i])\n",
        "  button.on_click(on_button_clicked)\n",
        "  button_list.append(button)  \n",
        "# def a():\n",
        "#   setup()"
      ],
      "metadata": {
        "id": "nnskzEe4oW8U"
      },
      "execution_count": null,
      "outputs": []
    },
    {
      "cell_type": "code",
      "source": [
        "setup()"
      ],
      "metadata": {
        "colab": {
          "base_uri": "https://localhost:8080/",
          "height": 257,
          "referenced_widgets": [
            "708710d0ef0c4ce2814500cc8b1c121e",
            "4c2a94bf6a05432988cce0c9b42383c6",
            "5fcb2ad2dae74068b2a92f95ce42b2d7",
            "95353b5c73ca4fc8a4b1ad4dce7c2a63",
            "7ec175a4f751451d957e2612b265584d",
            "3bf90e3a44a448c1878f64d39f8068cd",
            "a625b89085734ce6b9399dbd96158d56",
            "684a487f333a4dd1b15bfb75bcd2d658",
            "2bc580e8aba24a8eb3b000f026525ca5"
          ]
        },
        "id": "UT0UG8JTslVe",
        "outputId": "f8e145a6-3619-4cf7-96c3-b7b01a4c3e56"
      },
      "execution_count": null,
      "outputs": [
        {
          "output_type": "stream",
          "name": "stdout",
          "text": [
            "BRRRTrial-Skrrt.otf save as Wide\n"
          ]
        },
        {
          "output_type": "display_data",
          "data": {
            "text/plain": [
              "<IPython.core.display.HTML object>"
            ],
            "text/html": [
              "<style>\n",
              "       table#id16, #id16 > tbody > tr > th, #id16 > tbody > tr > td {\n",
              "         border: 1px solid lightgray;\n",
              "         border-collapse:collapse;\n",
              "         \n",
              "        }</style>"
            ]
          },
          "metadata": {}
        },
        {
          "output_type": "display_data",
          "data": {
            "text/plain": [
              "<IPython.core.display.HTML object>"
            ],
            "text/html": [
              "<table id=id16><tr><th id=id16-0-0></th><th id=id16-0-1></th><th id=id16-0-2></th></tr></table>"
            ]
          },
          "metadata": {}
        },
        {
          "output_type": "display_data",
          "data": {
            "text/plain": [
              "<PIL.Image.Image image mode=RGB size=1600x200 at 0x7FC8A7C36150>"
            ],
            "image/png": "[encoded data removed]"
          },
          "metadata": {}
        },
        {
          "output_type": "display_data",
          "data": {
            "text/plain": [
              "<IPython.core.display.Javascript object>"
            ],
            "application/javascript": [
              "window[\"be309df6-ba83-11ec-b52d-0242ac1c0002\"] = google.colab.output.getActiveOutputArea();\n",
              "//# sourceURL=js_ea87807814"
            ]
          },
          "metadata": {}
        },
        {
          "output_type": "display_data",
          "data": {
            "text/plain": [
              "<IPython.core.display.Javascript object>"
            ],
            "application/javascript": [
              "window[\"be310232-ba83-11ec-b52d-0242ac1c0002\"] = document.querySelector(\"#id16-0-0\");\n",
              "//# sourceURL=js_77f4205017"
            ]
          },
          "metadata": {}
        },
        {
          "output_type": "display_data",
          "data": {
            "text/plain": [
              "<IPython.core.display.Javascript object>"
            ],
            "application/javascript": [
              "window[\"be31b4c0-ba83-11ec-b52d-0242ac1c0002\"] = google.colab.output.setActiveOutputArea(window[\"be310232-ba83-11ec-b52d-0242ac1c0002\"]);\n",
              "//# sourceURL=js_65096d92d9"
            ]
          },
          "metadata": {}
        },
        {
          "output_type": "display_data",
          "data": {
            "text/plain": [
              "Button(description='Condensed', style=ButtonStyle())"
            ],
            "application/vnd.jupyter.widget-view+json": {
              "version_major": 2,
              "version_minor": 0,
              "model_id": "708710d0ef0c4ce2814500cc8b1c121e"
            }
          },
          "metadata": {}
        },
        {
          "output_type": "display_data",
          "data": {
            "text/plain": [
              "<IPython.core.display.Javascript object>"
            ],
            "application/javascript": [
              "window[\"be34b116-ba83-11ec-b52d-0242ac1c0002\"] = google.colab.output.setActiveOutputArea(window[\"be309df6-ba83-11ec-b52d-0242ac1c0002\"]);\n",
              "//# sourceURL=js_d9c36ac5b5"
            ]
          },
          "metadata": {}
        },
        {
          "output_type": "display_data",
          "data": {
            "text/plain": [
              "<IPython.core.display.Javascript object>"
            ],
            "application/javascript": [
              "window[\"be38a87a-ba83-11ec-b52d-0242ac1c0002\"] = google.colab.output.getActiveOutputArea();\n",
              "//# sourceURL=js_8ec3b2b27c"
            ]
          },
          "metadata": {}
        },
        {
          "output_type": "display_data",
          "data": {
            "text/plain": [
              "<IPython.core.display.Javascript object>"
            ],
            "application/javascript": [
              "window[\"be393fce-ba83-11ec-b52d-0242ac1c0002\"] = document.querySelector(\"#id16-0-1\");\n",
              "//# sourceURL=js_1bbf35bb4c"
            ]
          },
          "metadata": {}
        },
        {
          "output_type": "display_data",
          "data": {
            "text/plain": [
              "<IPython.core.display.Javascript object>"
            ],
            "application/javascript": [
              "window[\"be39a4b4-ba83-11ec-b52d-0242ac1c0002\"] = google.colab.output.setActiveOutputArea(window[\"be393fce-ba83-11ec-b52d-0242ac1c0002\"]);\n",
              "//# sourceURL=js_eea110ff49"
            ]
          },
          "metadata": {}
        },
        {
          "output_type": "display_data",
          "data": {
            "text/plain": [
              "Button(description='Narrow', style=ButtonStyle())"
            ],
            "application/vnd.jupyter.widget-view+json": {
              "version_major": 2,
              "version_minor": 0,
              "model_id": "95353b5c73ca4fc8a4b1ad4dce7c2a63"
            }
          },
          "metadata": {}
        },
        {
          "output_type": "display_data",
          "data": {
            "text/plain": [
              "<IPython.core.display.Javascript object>"
            ],
            "application/javascript": [
              "window[\"be3c07c2-ba83-11ec-b52d-0242ac1c0002\"] = google.colab.output.setActiveOutputArea(window[\"be38a87a-ba83-11ec-b52d-0242ac1c0002\"]);\n",
              "//# sourceURL=js_4c6b26f2c9"
            ]
          },
          "metadata": {}
        },
        {
          "output_type": "display_data",
          "data": {
            "text/plain": [
              "<IPython.core.display.Javascript object>"
            ],
            "application/javascript": [
              "window[\"be3e1062-ba83-11ec-b52d-0242ac1c0002\"] = google.colab.output.getActiveOutputArea();\n",
              "//# sourceURL=js_c9e230c62e"
            ]
          },
          "metadata": {}
        },
        {
          "output_type": "display_data",
          "data": {
            "text/plain": [
              "<IPython.core.display.Javascript object>"
            ],
            "application/javascript": [
              "window[\"be3e64e0-ba83-11ec-b52d-0242ac1c0002\"] = document.querySelector(\"#id16-0-2\");\n",
              "//# sourceURL=js_71d806469b"
            ]
          },
          "metadata": {}
        },
        {
          "output_type": "display_data",
          "data": {
            "text/plain": [
              "<IPython.core.display.Javascript object>"
            ],
            "application/javascript": [
              "window[\"be3eb1ca-ba83-11ec-b52d-0242ac1c0002\"] = google.colab.output.setActiveOutputArea(window[\"be3e64e0-ba83-11ec-b52d-0242ac1c0002\"]);\n",
              "//# sourceURL=js_49237a48f9"
            ]
          },
          "metadata": {}
        },
        {
          "output_type": "display_data",
          "data": {
            "text/plain": [
              "Button(description='Wide', style=ButtonStyle())"
            ],
            "application/vnd.jupyter.widget-view+json": {
              "version_major": 2,
              "version_minor": 0,
              "model_id": "a625b89085734ce6b9399dbd96158d56"
            }
          },
          "metadata": {}
        },
        {
          "output_type": "display_data",
          "data": {
            "text/plain": [
              "<IPython.core.display.Javascript object>"
            ],
            "application/javascript": [
              "window[\"be40152e-ba83-11ec-b52d-0242ac1c0002\"] = google.colab.output.setActiveOutputArea(window[\"be3e1062-ba83-11ec-b52d-0242ac1c0002\"]);\n",
              "//# sourceURL=js_b3452de33c"
            ]
          },
          "metadata": {}
        }
      ]
    },
    {
      "cell_type": "code",
      "source": [
        "print('Caunt of clicks {}'.format(len(classify)))\n",
        "classify"
      ],
      "metadata": {
        "colab": {
          "base_uri": "https://localhost:8080/"
        },
        "id": "V1LAmEmzy7s1",
        "outputId": "930740ea-5288-4b24-f32b-a3a86ef51137"
      },
      "execution_count": null,
      "outputs": [
        {
          "output_type": "stream",
          "name": "stdout",
          "text": [
            "Caunt of clicks 6\n"
          ]
        },
        {
          "output_type": "execute_result",
          "data": {
            "text/plain": [
              "[('StingerWideTrial-Thin.ttf', 'Condensed'),\n",
              " ('StingerWideTrial-Heavy.ttf', 'Narrow'),\n",
              " ('RFDewiExpanded-BlackItalic.ttf', 'Wide'),\n",
              " ('RFDewiExpanded-Bold.ttf', 'Condensed'),\n",
              " ('Micra.otf', 'Narrow'),\n",
              " ('BRRRTrial-Skrrt.otf', 'Wide')]"
            ]
          },
          "metadata": {},
          "execution_count": 25
        }
      ]
    },
    {
      "cell_type": "markdown",
      "source": [
        "## Create DataBase"
      ],
      "metadata": {
        "id": "6Gu0jPTRmW-y"
      }
    },
    {
      "cell_type": "code",
      "source": [
        "ratio = [1]\n",
        "num_skipped = 0\n",
        "cnt = [0]*len(classify)\n",
        "for fname in classify:\n",
        "  if fname[0] in os.listdir(path_to_all_fonts):\n",
        "    # cnt += 1\n",
        "    fpath = os.path.join(path_to_save_data, fname[0])\n",
        "    folder_name = fname[1]\n",
        "    # print(fpath)\n",
        "    os.replace(fpath, path_to_save_data+folder_name+'/'+fname[0])\n",
        "    # print(category.index(folder_name))\n",
        "    cnt[category.index(folder_name)] += 1\n",
        "for idx, className in enumerate(category):\n",
        "  print('Подготовлено шрифтов типа {}: {} штук'.format(className, cnt[idx]))"
      ],
      "metadata": {
        "id": "raHg08icLyjM",
        "colab": {
          "base_uri": "https://localhost:8080/"
        },
        "outputId": "008b1b17-6f70-4dcc-a07f-7133bbbe0be3"
      },
      "execution_count": null,
      "outputs": [
        {
          "output_type": "stream",
          "name": "stdout",
          "text": [
            "4\n",
            "4\n",
            "2\n",
            "4\n",
            "4\n",
            "Подготовлено шрифтов типа Display: 0 штук\n",
            "Подготовлено шрифтов типа Sans Serif: 0 штук\n",
            "Подготовлено шрифтов типа Serif: 1 штук\n",
            "Подготовлено шрифтов типа Monospaced: 0 штук\n",
            "Подготовлено шрифтов типа Handwritten: 4 штук\n"
          ]
        }
      ]
    }
  ]
}