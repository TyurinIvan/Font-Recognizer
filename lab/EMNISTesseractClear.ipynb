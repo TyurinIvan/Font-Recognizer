{
  "nbformat": 4,
  "nbformat_minor": 0,
  "metadata": {
    "colab": {
      "provenance": []
    },
    "kernelspec": {
      "name": "python3",
      "display_name": "Python 3"
    },
    "language_info": {
      "name": "python"
    }
  },
  "cells": [
    {
      "cell_type": "code",
      "execution_count": null,
      "metadata": {
        "colab": {
          "base_uri": "https://localhost:8080/"
        },
        "id": "Zw4nz5mff1SJ",
        "outputId": "7e40ca30-19fe-4329-da83-aaa5777fbb3a"
      },
      "outputs": [
        {
          "output_type": "stream",
          "name": "stdout",
          "text": [
            "Reading package lists... Done\n",
            "Building dependency tree       \n",
            "Reading state information... Done\n",
            "tesseract-ocr is already the newest version (4.00~git2288-10f4998a-2).\n",
            "0 upgraded, 0 newly installed, 0 to remove and 39 not upgraded.\n",
            "Requirement already satisfied: pytesseract in /usr/local/lib/python3.7/dist-packages (0.3.9)\n",
            "Requirement already satisfied: Pillow>=8.0.0 in /usr/local/lib/python3.7/dist-packages (from pytesseract) (9.0.1)\n",
            "Requirement already satisfied: packaging>=21.3 in /usr/local/lib/python3.7/dist-packages (from pytesseract) (21.3)\n",
            "Requirement already satisfied: pyparsing!=3.0.5,>=2.0.2 in /usr/local/lib/python3.7/dist-packages (from packaging>=21.3->pytesseract) (3.0.7)\n"
          ]
        }
      ],
      "source": [
        "!sudo apt install tesseract-ocr\n",
        "!pip install pytesseract\n",
        "\n",
        "import pytesseract\n",
        "import shutil\n",
        "import os\n",
        "import cv2\n",
        "import numpy as np\n",
        "import random\n",
        "from google.colab.patches import cv2_imshow\n",
        "from PIL import Image, ImageEnhance, ImageFilter\n",
        "try:\n",
        " from PIL import Image\n",
        "except ImportError:\n",
        " import Image"
      ]
    },
    {
      "cell_type": "code",
      "source": [
        "import os\n",
        "os.kill(os.getpid(), 9)"
      ],
      "metadata": {
        "id": "sWlIrEk5xSpc"
      },
      "execution_count": null,
      "outputs": []
    },
    {
      "cell_type": "code",
      "source": [
        "# im = Image.open(filelist[0]) # the second one \n",
        "im = Image.open('drive/MyDrive/colabData/VFR_real_test/ACaslonPro-Bold/ACaslonPro-Bold3359.png') # the second one \n",
        "im = im.filter(ImageFilter.MedianFilter())\n",
        "enhancer = ImageEnhance.Contrast(im)\n",
        "im = enhancer.enhance(2)\n",
        "im = im.convert('1')\n",
        "im.save('temp2.jpg')\n",
        "text = pytesseract.image_to_string(Image.open('temp2.jpg'))\n",
        "#      pytesseract.image_to_string(Image.open(image_path_in_colab), lang=\"rus\")\n",
        "print(text)"
      ],
      "metadata": {
        "id": "FSkV--bKxbY-",
        "colab": {
          "base_uri": "https://localhost:8080/"
        },
        "outputId": "4dae8a93-ef20-49ff-f756-27f66ad15e6a"
      },
      "execution_count": null,
      "outputs": [
        {
          "output_type": "stream",
          "name": "stdout",
          "text": [
            "\f\n"
          ]
        }
      ]
    },
    {
      "cell_type": "code",
      "source": [
        "ou_size = 28"
      ],
      "metadata": {
        "id": "KN5F8ZLYq1sv"
      },
      "execution_count": null,
      "outputs": []
    },
    {
      "cell_type": "code",
      "source": [
        "def rescaleLetter(im1, im2, out_size = ou_size):\n",
        "  im1 = Image.open(im1)\n",
        "  im2 = Image.open(im2)\n",
        "\n",
        "  img = np.array(im2)\n",
        "  bias = (int((out_size-img.shape[1])/2), int((out_size-img.shape[0])/2))\n",
        "\n",
        "  im1.paste(im2, bias)\n",
        "  img = np.array(im1)\n",
        "  cv2_imshow(img)\n",
        "  return img"
      ],
      "metadata": {
        "id": "otT8tMUwyZ4j"
      },
      "execution_count": null,
      "outputs": []
    },
    {
      "cell_type": "markdown",
      "source": [
        "Generate Background"
      ],
      "metadata": {
        "id": "DNA2mS_S0pua"
      }
    },
    {
      "cell_type": "code",
      "source": [
        "out_size = ou_size\n",
        "background = np.array([255, 255, 255]*out_size*out_size).reshape(out_size,out_size, 3)\n",
        "cv2_imshow(background)\n",
        "cv2.imwrite('background.JPG', background)"
      ],
      "metadata": {
        "colab": {
          "base_uri": "https://localhost:8080/",
          "height": 62
        },
        "id": "yQBC29sL0o5w",
        "outputId": "09d55382-be9f-424d-f37e-fda715e64c10"
      },
      "execution_count": null,
      "outputs": [
        {
          "output_type": "display_data",
          "data": {
            "text/plain": [
              "<PIL.Image.Image image mode=RGB size=28x28 at 0x7F191E2FC690>"
            ],
            "image/png": "[encoded data removed]"
          },
          "metadata": {}
        },
        {
          "output_type": "execute_result",
          "data": {
            "text/plain": [
              "True"
            ]
          },
          "metadata": {},
          "execution_count": 4
        }
      ]
    },
    {
      "cell_type": "code",
      "source": [],
      "metadata": {
        "id": "t7FBq_k8zCyS"
      },
      "execution_count": null,
      "outputs": []
    },
    {
      "cell_type": "code",
      "source": [],
      "metadata": {
        "id": "fmWk_0N42iIQ"
      },
      "execution_count": null,
      "outputs": []
    },
    {
      "cell_type": "code",
      "source": [],
      "metadata": {
        "id": "ToSZtSiOXt03"
      },
      "execution_count": null,
      "outputs": []
    },
    {
      "cell_type": "code",
      "source": [
        "im = cv2.imread('CaptureSome5.JPG')\n",
        "imgray = cv2.cvtColor(im, cv2.COLOR_BGR2GRAY)\n",
        "ret, thresh = cv2.threshold(imgray, 127, 255, 0)\n",
        "contours, hierarchy = cv2.findContours(thresh, cv2.RETR_TREE, cv2.CHAIN_APPROX_SIMPLE)\n",
        "\n",
        "output = im.copy()\n",
        "a = 0\n",
        "\n",
        "\n",
        "max_value_HoW =0\n",
        "letters = []\n",
        "# print()\n",
        "for idx, contour in enumerate(contours):\n",
        "    (x, y, w, h) = cv2.boundingRect(contour)\n",
        "    # print(\"R\", idx, x, y, w, h, cv2.contourArea(contour), hierarchy[0][idx])\n",
        "    # hierarchy[i][0]: the index of the next contour of the same level\n",
        "    # hierarchy[i][1]: the index of the previous contour of the same level\n",
        "    # hierarchy[i][2]: the index of the first child\n",
        "    # hierarchy[i][3]: the index of the parent\n",
        "    if hierarchy[0][idx][3] == 0:\n",
        "        cv2.rectangle(output, (x, y), (x + w, y + h), (70, 0, 0), 1)\n",
        "        # cv2.resize(image, 28, 28)) \n",
        "        # cv2_imshow(output[y:y+h, x:x+w, :])\n",
        "        max_value_HoW = h if max_value_HoW < h else max_value_HoW\n",
        "        max_value_HoW = w if max_value_HoW < w else max_value_HoW\n",
        "\n",
        "        a += 1\n",
        "        if a == 10:\n",
        "          break\n",
        "\n",
        "\n",
        "a = 0\n",
        "\n",
        "for idx, contour in enumerate(contours):\n",
        "    (x, y, w, h) = cv2.boundingRect(contour)\n",
        "    if hierarchy[0][idx][3] == 0:\n",
        "        # cv2.resize(image, 28, 28))\n",
        "        cropped = cv2.resize(output[y+1:y+h-1, x+1:x+w-1, :], (0,0), fx=ou_size/max_value_HoW, fy=ou_size/max_value_HoW)\n",
        "        # print(cropped.shape)\n",
        "        if cropped.shape[0]*cropped.shape[1] > 30:\n",
        "          name = 'cropped' + str(idx) + '.png'\n",
        "          cv2.imwrite(name, cropped)\n",
        "          cropped = rescaleLetter('background.JPG', name)\n",
        "          cv2.imwrite(name, cropped)\n",
        "          letters.append(cropped)\n",
        "        # cv2_imshow(cropped)\n",
        "        # print(cv2.resize(output[y:y+h, x:x+w, :], (0,0), fx=28/max_value_HoW, fy=28/max_value_HoW).shape)\n",
        "        # imgray = cv2.cvtColor(im, cv2.COLOR_BGR2GRAY)\n",
        "        # dst = cv2.addWeighted(cropped,0.7,background,0.3,0)\n",
        "        # print(my_add_pic(cropped, background))\n",
        "        # cv2_imshow(my_add_pic(cropped, background))\n",
        "        # cv2_imshow(dst)\n",
        "        # cv2_imshow(output[y:y+h, x:x+w, :])\n",
        "\n",
        "\n",
        "        a += 1\n",
        "        if a == 10:\n",
        "          break\n",
        "\n",
        "cv2_imshow(im)\n",
        "# cv2_imshow(img_erode)\n",
        "cv2_imshow(output)\n",
        "print('Max h or w of letter in pixels is', max_value_HoW)\n",
        "# cv2.waitKey(0)"
      ],
      "metadata": {
        "colab": {
          "base_uri": "https://localhost:8080/",
          "height": 398
        },
        "id": "CshqF5hCigZ0",
        "outputId": "50d350a7-74d5-433b-d008-7a7038f7e626"
      },
      "execution_count": null,
      "outputs": [
        {
          "output_type": "display_data",
          "data": {
            "text/plain": [
              "<PIL.Image.Image image mode=RGB size=28x28 at 0x7F191C458850>"
            ],
            "image/png": "[encoded data removed]"
          },
          "metadata": {}
        },
        {
          "output_type": "display_data",
          "data": {
            "text/plain": [
              "<PIL.Image.Image image mode=RGB size=28x28 at 0x7F191C458C90>"
            ],
            "image/png": "[encoded data removed]"
          },
          "metadata": {}
        },
        {
          "output_type": "display_data",
          "data": {
            "text/plain": [
              "<PIL.Image.Image image mode=RGB size=28x28 at 0x7F191C458C10>"
            ],
            "image/png": "[encoded data removed]"
          },
          "metadata": {}
        },
        {
          "output_type": "display_data",
          "data": {
            "text/plain": [
              "<PIL.Image.Image image mode=RGB size=28x28 at 0x7F191C4587D0>"
            ],
            "image/png": "[encoded data removed]"
          },
          "metadata": {}
        },
        {
          "output_type": "display_data",
          "data": {
            "text/plain": [
              "<PIL.Image.Image image mode=RGB size=28x28 at 0x7F191C458C90>"
            ],
            "image/png": "[encoded data removed]"
          },
          "metadata": {}
        },
        {
          "output_type": "display_data",
          "data": {
            "text/plain": [
              "<PIL.Image.Image image mode=RGB size=28x28 at 0x7F191C4581D0>"
            ],
            "image/png": "[encoded data removed]"
          },
          "metadata": {}
        },
        {
          "output_type": "display_data",
          "data": {
            "text/plain": [
              "<PIL.Image.Image image mode=RGB size=28x28 at 0x7F191C458CD0>"
            ],
            "image/png": "[encoded data removed]"
          },
          "metadata": {}
        },
        {
          "output_type": "display_data",
          "data": {
            "text/plain": [
              "<PIL.Image.Image image mode=RGB size=28x28 at 0x7F191C4581D0>"
            ],
            "image/png": "[encoded data removed]"
          },
          "metadata": {}
        },
        {
          "output_type": "display_data",
          "data": {
            "text/plain": [
              "<PIL.Image.Image image mode=RGB size=28x28 at 0x7F191C458310>"
            ],
            "image/png": "[encoded data removed]"
          },
          "metadata": {}
        },
        {
          "output_type": "display_data",
          "data": {
            "text/plain": [
              "<PIL.Image.Image image mode=RGB size=232x56 at 0x7F191C458890>"
            ],
            "image/png": "[encoded data removed]"
          },
          "metadata": {}
        },
        {
          "output_type": "display_data",
          "data": {
            "text/plain": [
              "<PIL.Image.Image image mode=RGB size=232x56 at 0x7F191C4581D0>"
            ],
            "image/png": "[encoded data removed]"
          },
          "metadata": {}
        },
        {
          "output_type": "stream",
          "name": "stdout",
          "text": [
            "Max h or w of letter in pixels is 31\n"
          ]
        }
      ]
    },
    {
      "cell_type": "code",
      "source": [
        "cv2_imshow(letters[3])"
      ],
      "metadata": {
        "colab": {
          "base_uri": "https://localhost:8080/",
          "height": 45
        },
        "id": "ZWPIf_lpDkLE",
        "outputId": "b6840e01-df99-49b9-e591-a98c8b013ecf"
      },
      "execution_count": null,
      "outputs": [
        {
          "output_type": "display_data",
          "data": {
            "text/plain": [
              "<PIL.Image.Image image mode=RGB size=28x28 at 0x7FCB7F6B9F10>"
            ],
            "image/png": "[encoded data removed]"
          },
          "metadata": {}
        }
      ]
    },
    {
      "cell_type": "code",
      "source": [
        "text = pytesseract.image_to_string('CaptureSome4.JPG')"
      ],
      "metadata": {
        "id": "0vO89vyHDFUc"
      },
      "execution_count": null,
      "outputs": []
    },
    {
      "cell_type": "code",
      "source": [
        "for idx, letter in enumerate(letters):\n",
        "  print(text[idx])\n",
        "  cv2_imshow(letter)"
      ],
      "metadata": {
        "colab": {
          "base_uri": "https://localhost:8080/",
          "height": 244
        },
        "id": "GfO-RK0JCbK1",
        "outputId": "16756a18-b46c-43a3-c376-88dd7a947a6a"
      },
      "execution_count": null,
      "outputs": [
        {
          "output_type": "stream",
          "name": "stdout",
          "text": [
            "b\n"
          ]
        },
        {
          "output_type": "display_data",
          "data": {
            "image/png": "[encoded data removed]",
            "text/plain": [
              "<PIL.Image.Image image mode=RGB size=28x28 at 0x7F372FF5A210>"
            ]
          },
          "metadata": {}
        },
        {
          "output_type": "stream",
          "name": "stdout",
          "text": [
            "r\n"
          ]
        },
        {
          "output_type": "display_data",
          "data": {
            "image/png": "[encoded data removed]",
            "text/plain": [
              "<PIL.Image.Image image mode=RGB size=28x28 at 0x7F372FF5A4D0>"
            ]
          },
          "metadata": {}
        },
        {
          "output_type": "stream",
          "name": "stdout",
          "text": [
            "o\n"
          ]
        },
        {
          "output_type": "display_data",
          "data": {
            "image/png": "[encoded data removed]",
            "text/plain": [
              "<PIL.Image.Image image mode=RGB size=28x28 at 0x7F372FF5A850>"
            ]
          },
          "metadata": {}
        },
        {
          "output_type": "stream",
          "name": "stdout",
          "text": [
            "w\n"
          ]
        },
        {
          "output_type": "display_data",
          "data": {
            "image/png": "[encoded data removed]",
            "text/plain": [
              "<PIL.Image.Image image mode=RGB size=28x28 at 0x7F372FF5AD90>"
            ]
          },
          "metadata": {}
        },
        {
          "output_type": "stream",
          "name": "stdout",
          "text": [
            "n\n"
          ]
        },
        {
          "output_type": "display_data",
          "data": {
            "image/png": "[encoded data removed]",
            "text/plain": [
              "<PIL.Image.Image image mode=RGB size=28x28 at 0x7F372FF5A310>"
            ]
          },
          "metadata": {}
        }
      ]
    },
    {
      "cell_type": "code",
      "source": [
        "# x = np.concatenate((letters[4],letters[3],letters[2],letters[0],letters[1]), axis=0)\n",
        "print(x.shape)\n",
        "cv2_imshow(x)\n"
      ],
      "metadata": {
        "colab": {
          "base_uri": "https://localhost:8080/",
          "height": 200
        },
        "id": "-TQBJLP1G5Hy",
        "outputId": "41bfbf42-7396-4ee3-be8f-ff81ef59fb6a"
      },
      "execution_count": null,
      "outputs": [
        {
          "output_type": "error",
          "ename": "AttributeError",
          "evalue": "ignored",
          "traceback": [
            "\u001b[0;31m---------------------------------------------------------------------------\u001b[0m",
            "\u001b[0;31mAttributeError\u001b[0m                            Traceback (most recent call last)",
            "\u001b[0;32m<ipython-input-145-1c9c9c5fd54a>\u001b[0m in \u001b[0;36m<module>\u001b[0;34m()\u001b[0m\n\u001b[1;32m      1\u001b[0m \u001b[0;31m# x = np.concatenate((letters[4],letters[3],letters[2],letters[0],letters[1]), axis=0)\u001b[0m\u001b[0;34m\u001b[0m\u001b[0;34m\u001b[0m\u001b[0;34m\u001b[0m\u001b[0m\n\u001b[0;32m----> 2\u001b[0;31m \u001b[0mprint\u001b[0m\u001b[0;34m(\u001b[0m\u001b[0mx\u001b[0m\u001b[0;34m.\u001b[0m\u001b[0mshape\u001b[0m\u001b[0;34m)\u001b[0m\u001b[0;34m\u001b[0m\u001b[0;34m\u001b[0m\u001b[0m\n\u001b[0m\u001b[1;32m      3\u001b[0m \u001b[0mcv2_imshow\u001b[0m\u001b[0;34m(\u001b[0m\u001b[0mx\u001b[0m\u001b[0;34m)\u001b[0m\u001b[0;34m\u001b[0m\u001b[0;34m\u001b[0m\u001b[0m\n",
            "\u001b[0;31mAttributeError\u001b[0m: 'int' object has no attribute 'shape'"
          ]
        }
      ]
    },
    {
      "cell_type": "code",
      "source": [
        "cv2.imwrite('test.png', x)"
      ],
      "metadata": {
        "colab": {
          "base_uri": "https://localhost:8080/"
        },
        "id": "hM5WxwscILL5",
        "outputId": "f24827f1-72ea-4a21-971c-bc5854e10fe0"
      },
      "execution_count": null,
      "outputs": [
        {
          "output_type": "execute_result",
          "data": {
            "text/plain": [
              "True"
            ]
          },
          "metadata": {},
          "execution_count": 132
        }
      ]
    },
    {
      "cell_type": "code",
      "source": [
        "text = pytesseract.image_to_string('test.png')\n",
        "print(text)"
      ],
      "metadata": {
        "colab": {
          "base_uri": "https://localhost:8080/"
        },
        "id": "bv3nL0VrIdCo",
        "outputId": "d4b62373-8df9-4f79-a521-7c63dd60d3bf"
      },
      "execution_count": null,
      "outputs": [
        {
          "output_type": "stream",
          "name": "stdout",
          "text": [
            "O-Oosc\n",
            "\f\n"
          ]
        }
      ]
    },
    {
      "cell_type": "code",
      "source": [
        "cv2_imshow(letters[0])"
      ],
      "metadata": {
        "colab": {
          "base_uri": "https://localhost:8080/",
          "height": 45
        },
        "id": "_hqFYMFWH4FI",
        "outputId": "5f512e7e-12f2-4a9a-cb96-a8a1b78a60fc"
      },
      "execution_count": null,
      "outputs": [
        {
          "output_type": "display_data",
          "data": {
            "image/png": "[encoded data removed]",
            "text/plain": [
              "<PIL.Image.Image image mode=RGB size=28x28 at 0x7F372FF6D9D0>"
            ]
          },
          "metadata": {}
        }
      ]
    },
    {
      "cell_type": "code",
      "source": [
        "print(pytesseract.image_to_string(letters[3], config=(\"-c tessedit\"\n",
        "                  \"_char_whitelist=abcdefghijklmnopqrstuvwxyzABCDEFGHIJKLMNOPQRSTUVWXYZ\"\n",
        "                  \" --psm 10\"\n",
        "                  \" -l osd\"\n",
        "                  \" \")))"
      ],
      "metadata": {
        "colab": {
          "base_uri": "https://localhost:8080/"
        },
        "id": "eS1IIJPcJcn-",
        "outputId": "ef7df9d1-3785-4024-b396-734d539d4025"
      },
      "execution_count": null,
      "outputs": [
        {
          "output_type": "stream",
          "name": "stdout",
          "text": [
            "m\n",
            "\f\n"
          ]
        }
      ]
    },
    {
      "cell_type": "code",
      "source": [
        "cv2_imshow(letters[2])"
      ],
      "metadata": {
        "colab": {
          "base_uri": "https://localhost:8080/",
          "height": 287
        },
        "id": "JAojse2DHcH6",
        "outputId": "bfc1d5da-2098-40e2-aa3a-857524d9010e"
      },
      "execution_count": null,
      "outputs": [
        {
          "output_type": "error",
          "ename": "AttributeError",
          "evalue": "ignored",
          "traceback": [
            "\u001b[0;31m---------------------------------------------------------------------------\u001b[0m",
            "\u001b[0;31mAttributeError\u001b[0m                            Traceback (most recent call last)",
            "\u001b[0;32m<ipython-input-95-4193c6f88bdd>\u001b[0m in \u001b[0;36m<module>\u001b[0;34m()\u001b[0m\n\u001b[0;32m----> 1\u001b[0;31m \u001b[0mcv2_imshow\u001b[0m\u001b[0;34m(\u001b[0m\u001b[0mletters\u001b[0m\u001b[0;34m[\u001b[0m\u001b[0;36m2\u001b[0m\u001b[0;34m]\u001b[0m\u001b[0;34m)\u001b[0m\u001b[0;34m\u001b[0m\u001b[0;34m\u001b[0m\u001b[0m\n\u001b[0m",
            "\u001b[0;32m/usr/local/lib/python3.7/dist-packages/google/colab/patches/__init__.py\u001b[0m in \u001b[0;36mcv2_imshow\u001b[0;34m(a)\u001b[0m\n\u001b[1;32m     20\u001b[0m       \u001b[0mimage\u001b[0m\u001b[0;34m.\u001b[0m\u001b[0;34m\u001b[0m\u001b[0;34m\u001b[0m\u001b[0m\n\u001b[1;32m     21\u001b[0m   \"\"\"\n\u001b[0;32m---> 22\u001b[0;31m   \u001b[0ma\u001b[0m \u001b[0;34m=\u001b[0m \u001b[0ma\u001b[0m\u001b[0;34m.\u001b[0m\u001b[0mclip\u001b[0m\u001b[0;34m(\u001b[0m\u001b[0;36m0\u001b[0m\u001b[0;34m,\u001b[0m \u001b[0;36m255\u001b[0m\u001b[0;34m)\u001b[0m\u001b[0;34m.\u001b[0m\u001b[0mastype\u001b[0m\u001b[0;34m(\u001b[0m\u001b[0;34m'uint8'\u001b[0m\u001b[0;34m)\u001b[0m\u001b[0;34m\u001b[0m\u001b[0;34m\u001b[0m\u001b[0m\n\u001b[0m\u001b[1;32m     23\u001b[0m   \u001b[0;31m# cv2 stores colors as BGR; convert to RGB\u001b[0m\u001b[0;34m\u001b[0m\u001b[0;34m\u001b[0m\u001b[0;34m\u001b[0m\u001b[0m\n\u001b[1;32m     24\u001b[0m   \u001b[0;32mif\u001b[0m \u001b[0ma\u001b[0m\u001b[0;34m.\u001b[0m\u001b[0mndim\u001b[0m \u001b[0;34m==\u001b[0m \u001b[0;36m3\u001b[0m\u001b[0;34m:\u001b[0m\u001b[0;34m\u001b[0m\u001b[0;34m\u001b[0m\u001b[0m\n",
            "\u001b[0;31mAttributeError\u001b[0m: 'tuple' object has no attribute 'clip'"
          ]
        }
      ]
    },
    {
      "cell_type": "code",
      "source": [
        "print(pytesseract.image_to_string('cropped1.png', config=(\"-c tessedit\"\n",
        "                  \"_char_whitelist=abcdefghijklmnopqrstuvwxyzABCDEFGHIJKLMNOPQRSTUVWXYZ\"\n",
        "                  \" --psm 10\"\n",
        "                  \" -l osd\"\n",
        "                  \" \")))"
      ],
      "metadata": {
        "colab": {
          "base_uri": "https://localhost:8080/"
        },
        "id": "UPCaT_sQ2dRn",
        "outputId": "92c326f2-6333-4862-9905-0cac08bf7f6f"
      },
      "execution_count": null,
      "outputs": [
        {
          "output_type": "stream",
          "name": "stdout",
          "text": [
            "m\n",
            "\f\n"
          ]
        }
      ]
    },
    {
      "cell_type": "code",
      "source": [],
      "metadata": {
        "id": "2NwmhTwc2dNh"
      },
      "execution_count": null,
      "outputs": []
    },
    {
      "cell_type": "code",
      "source": [],
      "metadata": {
        "id": "4epiYKT92dKn"
      },
      "execution_count": null,
      "outputs": []
    },
    {
      "cell_type": "code",
      "source": [],
      "metadata": {
        "id": "NgqNJlbn2dHu"
      },
      "execution_count": null,
      "outputs": []
    },
    {
      "cell_type": "code",
      "source": [],
      "metadata": {
        "id": "6-B6b0J22dEo"
      },
      "execution_count": null,
      "outputs": []
    },
    {
      "cell_type": "code",
      "source": [
        "def letters_extract(image_file: str, out_size=28):\n",
        "    im = cv2.imread(image_file)\n",
        "    # im = cv2.imread('hw.PNG')\n",
        "    imgray = cv2.cvtColor(im, cv2.COLOR_BGR2GRAY)\n",
        "    ret, thresh = cv2.threshold(imgray, 127, 255, 0)\n",
        "    contours, hierarchy = cv2.findContours(thresh, cv2.RETR_TREE, cv2.CHAIN_APPROX_SIMPLE)\n",
        "    \n",
        "    gray = cv2.cvtColor(im, cv2.COLOR_BGR2GRAY)\n",
        "    # ret, thresh = cv2.threshold(gray, 0, 255, cv2.THRESH_BINARY)\n",
        "    # img_erode = cv2.erode(thresh, np.ones((3, 3), np.uint8), iterations=1)\n",
        "\n",
        "    # # Get contours\n",
        "    # contours, hierarchy = cv2.findContours(img_erode, cv2.RETR_TREE, cv2.CHAIN_APPROX_NONE)\n",
        "\n",
        "    output = im.copy()\n",
        "\n",
        "    letters = []\n",
        "    for idx, contour in enumerate(contours):\n",
        "        (x, y, w, h) = cv2.boundingRect(contour)\n",
        "        # print(\"R\", idx, x, y, w, h, cv2.contourArea(contour), hierarchy[0][idx])\n",
        "        # hierarchy[i][0]: the index of the next contour of the same level\n",
        "        # hierarchy[i][1]: the index of the previous contour of the same level\n",
        "        # hierarchy[i][2]: the index of the first child\n",
        "        # hierarchy[i][3]: the index of the parent\n",
        "        if hierarchy[0][idx][3] == 0:\n",
        "            # print(\"!!!!!!\")\n",
        "            cv2.rectangle(output, (x, y), (x + w, y + h), (70, 0, 0), 1)\n",
        "            letter_crop = gray[y:y + h, x:x + w]\n",
        "            # print(letter_crop.shape)\n",
        "\n",
        "            # Resize letter canvas to square\n",
        "            size_max = max(w, h)\n",
        "            letter_square = 255 * np.ones(shape=[size_max, size_max], dtype=np.uint8)\n",
        "            if w > h:\n",
        "                # Enlarge image top-bottom\n",
        "                # ------\n",
        "                # ======\n",
        "                # ------\n",
        "                y_pos = size_max//2 - h//2\n",
        "                letter_square[y_pos:y_pos + h, 0:w] = letter_crop\n",
        "            elif w < h:\n",
        "                # Enlarge image left-right\n",
        "                # --||--\n",
        "                x_pos = size_max//2 - w//2\n",
        "                letter_square[0:h, x_pos:x_pos + w] = letter_crop\n",
        "            else:\n",
        "                letter_square = letter_crop\n",
        "\n",
        "                # Resize letter to 28x28 and add letter and its X-coordinate\n",
        "            # letters.append((x, w, cv2.resize(letter_square, (out_size, out_size), interpolation=cv2.INTER_AREA)))\n",
        "            letters.append((x, w, letter_square))\n",
        "\n",
        "    # Sort array in place by X-coordinate\n",
        "    letters.sort(key=lambda x: x[0], reverse=False)\n",
        "\n",
        "    return letters"
      ],
      "metadata": {
        "id": "tS3b3oaLzxET"
      },
      "execution_count": null,
      "outputs": []
    },
    {
      "cell_type": "code",
      "source": [
        "letters = letters_extract('CaptureSome4.JPG')"
      ],
      "metadata": {
        "id": "AEi0cvtw0Nzx"
      },
      "execution_count": null,
      "outputs": []
    },
    {
      "cell_type": "code",
      "source": [
        "letters = letters_extract('alphabet3b.PNG')"
      ],
      "metadata": {
        "id": "XtU-eoXVEAqs"
      },
      "execution_count": null,
      "outputs": []
    },
    {
      "cell_type": "code",
      "source": [
        "cv2_imshow(letters[0][2])\n",
        "cv2_imshow(letters[1][2])\n",
        "cv2_imshow(letters[2][2])\n",
        "cv2_imshow(letters[3][2])\n",
        "cv2_imshow(letters[4][2])\n",
        "cv2_imshow(letters[5][2])\n",
        "cv2_imshow(letters[6][2])\n",
        "cv2_imshow(letters[7][2])\n",
        "cv2_imshow(letters[8][2])\n",
        "cv2_imshow(letters[9][2])\n",
        "cv2.waitKey(0)"
      ],
      "metadata": {
        "colab": {
          "base_uri": "https://localhost:8080/",
          "height": 293
        },
        "id": "aYokPxI40aOG",
        "outputId": "c1ad015e-f80e-4c06-b591-8fb1790d1737"
      },
      "execution_count": null,
      "outputs": [
        {
          "output_type": "display_data",
          "data": {
            "image/png": "[encoded data removed]",
            "text/plain": [
              "<PIL.Image.Image image mode=L size=22x22 at 0x7F373098EC50>"
            ]
          },
          "metadata": {}
        },
        {
          "output_type": "display_data",
          "data": {
            "image/png": "[encoded data removed]",
            "text/plain": [
              "<PIL.Image.Image image mode=L size=31x31 at 0x7F3730952C90>"
            ]
          },
          "metadata": {}
        },
        {
          "output_type": "display_data",
          "data": {
            "image/png": "[encoded data removed]",
            "text/plain": [
              "<PIL.Image.Image image mode=L size=22x22 at 0x7F37309D1350>"
            ]
          },
          "metadata": {}
        },
        {
          "output_type": "display_data",
          "data": {
            "image/png": "[encoded data removed]",
            "text/plain": [
              "<PIL.Image.Image image mode=L size=31x31 at 0x7F3730952650>"
            ]
          },
          "metadata": {}
        },
        {
          "output_type": "display_data",
          "data": {
            "image/png": "[encoded data removed]",
            "text/plain": [
              "<PIL.Image.Image image mode=L size=22x22 at 0x7F3730A11050>"
            ]
          },
          "metadata": {}
        },
        {
          "output_type": "display_data",
          "data": {
            "image/png": "[encoded data removed]",
            "text/plain": [
              "<PIL.Image.Image image mode=L size=31x31 at 0x7F3730952C90>"
            ]
          },
          "metadata": {}
        },
        {
          "output_type": "display_data",
          "data": {
            "image/png": "[encoded data removed]",
            "text/plain": [
              "<PIL.Image.Image image mode=L size=29x29 at 0x7F37309D1350>"
            ]
          },
          "metadata": {}
        },
        {
          "output_type": "display_data",
          "data": {
            "image/png": "[encoded data removed]",
            "text/plain": [
              "<PIL.Image.Image image mode=L size=31x31 at 0x7F3730952650>"
            ]
          },
          "metadata": {}
        },
        {
          "output_type": "display_data",
          "data": {
            "image/png": "[encoded data removed]",
            "text/plain": [
              "<PIL.Image.Image image mode=L size=6x6 at 0x7F3730A11050>"
            ]
          },
          "metadata": {}
        },
        {
          "output_type": "display_data",
          "data": {
            "image/png": "[encoded data removed]",
            "text/plain": [
              "<PIL.Image.Image image mode=L size=22x22 at 0x7F3730952C90>"
            ]
          },
          "metadata": {}
        },
        {
          "output_type": "execute_result",
          "data": {
            "text/plain": [
              "-1"
            ]
          },
          "metadata": {},
          "execution_count": 85
        }
      ]
    },
    {
      "cell_type": "code",
      "source": [
        "text = pytesseract.image_to_string('alphabet3b.PNG')"
      ],
      "metadata": {
        "id": "PAxzavfbFVbF"
      },
      "execution_count": null,
      "outputs": []
    },
    {
      "cell_type": "code",
      "source": [
        "for idx, letter in enumerate(letters):\n",
        "  print(text[idx])\n",
        "  cv2_imshow(letter[2])"
      ],
      "metadata": {
        "colab": {
          "base_uri": "https://localhost:8080/",
          "height": 1000
        },
        "outputId": "dd79ddfb-350d-49f5-cfc5-0b783bb07755",
        "id": "ikwhExSnFVbG"
      },
      "execution_count": null,
      "outputs": [
        {
          "output_type": "stream",
          "name": "stdout",
          "text": [
            "a\n"
          ]
        },
        {
          "output_type": "display_data",
          "data": {
            "image/png": "[encoded data removed]",
            "text/plain": [
              "<PIL.Image.Image image mode=L size=22x22 at 0x7F3730A11350>"
            ]
          },
          "metadata": {}
        },
        {
          "output_type": "stream",
          "name": "stdout",
          "text": [
            "b\n"
          ]
        },
        {
          "output_type": "display_data",
          "data": {
            "image/png": "[encoded data removed]",
            "text/plain": [
              "<PIL.Image.Image image mode=L size=31x31 at 0x7F37309D1D50>"
            ]
          },
          "metadata": {}
        },
        {
          "output_type": "stream",
          "name": "stdout",
          "text": [
            "c\n"
          ]
        },
        {
          "output_type": "display_data",
          "data": {
            "image/png": "[encoded data removed]",
            "text/plain": [
              "<PIL.Image.Image image mode=L size=22x22 at 0x7F3730A11810>"
            ]
          },
          "metadata": {}
        },
        {
          "output_type": "stream",
          "name": "stdout",
          "text": [
            "d\n"
          ]
        },
        {
          "output_type": "display_data",
          "data": {
            "image/png": "[encoded data removed]",
            "text/plain": [
              "<PIL.Image.Image image mode=L size=31x31 at 0x7F3730A11D50>"
            ]
          },
          "metadata": {}
        },
        {
          "output_type": "stream",
          "name": "stdout",
          "text": [
            "e\n"
          ]
        },
        {
          "output_type": "display_data",
          "data": {
            "image/png": "[encoded data removed]",
            "text/plain": [
              "<PIL.Image.Image image mode=L size=22x22 at 0x7F3730A11A90>"
            ]
          },
          "metadata": {}
        },
        {
          "output_type": "stream",
          "name": "stdout",
          "text": [
            "f\n"
          ]
        },
        {
          "output_type": "display_data",
          "data": {
            "image/png": "[encoded data removed]",
            "text/plain": [
              "<PIL.Image.Image image mode=L size=31x31 at 0x7F373270E610>"
            ]
          },
          "metadata": {}
        },
        {
          "output_type": "stream",
          "name": "stdout",
          "text": [
            "g\n"
          ]
        },
        {
          "output_type": "display_data",
          "data": {
            "image/png": "[encoded data removed]",
            "text/plain": [
              "<PIL.Image.Image image mode=L size=29x29 at 0x7F373270E790>"
            ]
          },
          "metadata": {}
        },
        {
          "output_type": "stream",
          "name": "stdout",
          "text": [
            "h\n"
          ]
        },
        {
          "output_type": "display_data",
          "data": {
            "image/png": "[encoded data removed]",
            "text/plain": [
              "<PIL.Image.Image image mode=L size=31x31 at 0x7F3730A11D10>"
            ]
          },
          "metadata": {}
        },
        {
          "output_type": "stream",
          "name": "stdout",
          "text": [
            "i\n"
          ]
        },
        {
          "output_type": "display_data",
          "data": {
            "image/png": "[encoded data removed]",
            "text/plain": [
              "<PIL.Image.Image image mode=L size=6x6 at 0x7F3730A11D90>"
            ]
          },
          "metadata": {}
        },
        {
          "output_type": "stream",
          "name": "stdout",
          "text": [
            "j\n"
          ]
        },
        {
          "output_type": "display_data",
          "data": {
            "image/png": "[encoded data removed]",
            "text/plain": [
              "<PIL.Image.Image image mode=L size=22x22 at 0x7F3730A11810>"
            ]
          },
          "metadata": {}
        },
        {
          "output_type": "stream",
          "name": "stdout",
          "text": [
            "k\n"
          ]
        },
        {
          "output_type": "display_data",
          "data": {
            "image/png": "[encoded data removed]",
            "text/plain": [
              "<PIL.Image.Image image mode=L size=29x29 at 0x7F373270E050>"
            ]
          },
          "metadata": {}
        },
        {
          "output_type": "stream",
          "name": "stdout",
          "text": [
            "l\n"
          ]
        },
        {
          "output_type": "display_data",
          "data": {
            "image/png": "[encoded data removed]",
            "text/plain": [
              "<PIL.Image.Image image mode=L size=6x6 at 0x7F3730A11650>"
            ]
          },
          "metadata": {}
        },
        {
          "output_type": "stream",
          "name": "stdout",
          "text": [
            "m\n"
          ]
        },
        {
          "output_type": "display_data",
          "data": {
            "image/png": "[encoded data removed]",
            "text/plain": [
              "<PIL.Image.Image image mode=L size=31x31 at 0x7F3730A11A10>"
            ]
          },
          "metadata": {}
        },
        {
          "output_type": "stream",
          "name": "stdout",
          "text": [
            "n\n"
          ]
        },
        {
          "output_type": "display_data",
          "data": {
            "image/png": "[encoded data removed]",
            "text/plain": [
              "<PIL.Image.Image image mode=L size=31x31 at 0x7F3730A0E210>"
            ]
          },
          "metadata": {}
        },
        {
          "output_type": "stream",
          "name": "stdout",
          "text": [
            "o\n"
          ]
        },
        {
          "output_type": "display_data",
          "data": {
            "image/png": "[encoded data removed]",
            "text/plain": [
              "<PIL.Image.Image image mode=L size=30x30 at 0x7F3730A110D0>"
            ]
          },
          "metadata": {}
        },
        {
          "output_type": "stream",
          "name": "stdout",
          "text": [
            "p\n"
          ]
        },
        {
          "output_type": "display_data",
          "data": {
            "image/png": "[encoded data removed]",
            "text/plain": [
              "<PIL.Image.Image image mode=L size=22x22 at 0x7F3730952C90>"
            ]
          },
          "metadata": {}
        },
        {
          "output_type": "stream",
          "name": "stdout",
          "text": [
            "q\n"
          ]
        },
        {
          "output_type": "display_data",
          "data": {
            "image/png": "[encoded data removed]",
            "text/plain": [
              "<PIL.Image.Image image mode=L size=22x22 at 0x7F3730952F90>"
            ]
          },
          "metadata": {}
        },
        {
          "output_type": "stream",
          "name": "stdout",
          "text": [
            "r\n"
          ]
        },
        {
          "output_type": "display_data",
          "data": {
            "image/png": "[encoded data removed]",
            "text/plain": [
              "<PIL.Image.Image image mode=L size=29x29 at 0x7F3730952C90>"
            ]
          },
          "metadata": {}
        },
        {
          "output_type": "stream",
          "name": "stdout",
          "text": [
            "s\n"
          ]
        },
        {
          "output_type": "display_data",
          "data": {
            "image/png": "[encoded data removed]",
            "text/plain": [
              "<PIL.Image.Image image mode=L size=29x29 at 0x7F37309525D0>"
            ]
          },
          "metadata": {}
        },
        {
          "output_type": "stream",
          "name": "stdout",
          "text": [
            "t\n"
          ]
        },
        {
          "output_type": "display_data",
          "data": {
            "image/png": "[encoded data removed]",
            "text/plain": [
              "<PIL.Image.Image image mode=L size=22x22 at 0x7F3730952650>"
            ]
          },
          "metadata": {}
        },
        {
          "output_type": "stream",
          "name": "stdout",
          "text": [
            "u\n"
          ]
        },
        {
          "output_type": "display_data",
          "data": {
            "image/png": "[encoded data removed]",
            "text/plain": [
              "<PIL.Image.Image image mode=L size=22x22 at 0x7F3730952150>"
            ]
          },
          "metadata": {}
        },
        {
          "output_type": "stream",
          "name": "stdout",
          "text": [
            "v\n"
          ]
        },
        {
          "output_type": "display_data",
          "data": {
            "image/png": "[encoded data removed]",
            "text/plain": [
              "<PIL.Image.Image image mode=L size=27x27 at 0x7F3730952A50>"
            ]
          },
          "metadata": {}
        },
        {
          "output_type": "stream",
          "name": "stdout",
          "text": [
            "w\n"
          ]
        },
        {
          "output_type": "display_data",
          "data": {
            "image/png": "[encoded data removed]",
            "text/plain": [
              "<PIL.Image.Image image mode=L size=22x22 at 0x7F3730952A90>"
            ]
          },
          "metadata": {}
        },
        {
          "output_type": "stream",
          "name": "stdout",
          "text": [
            "x\n"
          ]
        },
        {
          "output_type": "display_data",
          "data": {
            "image/png": "[encoded data removed]",
            "text/plain": [
              "<PIL.Image.Image image mode=L size=22x22 at 0x7F3730952ED0>"
            ]
          },
          "metadata": {}
        },
        {
          "output_type": "stream",
          "name": "stdout",
          "text": [
            "y\n"
          ]
        },
        {
          "output_type": "display_data",
          "data": {
            "image/png": "[encoded data removed]",
            "text/plain": [
              "<PIL.Image.Image image mode=L size=30x30 at 0x7F3730952450>"
            ]
          },
          "metadata": {}
        },
        {
          "output_type": "stream",
          "name": "stdout",
          "text": [
            "z\n"
          ]
        },
        {
          "output_type": "display_data",
          "data": {
            "image/png": "[encoded data removed]",
            "text/plain": [
              "<PIL.Image.Image image mode=L size=22x22 at 0x7F3730952690>"
            ]
          },
          "metadata": {}
        },
        {
          "output_type": "stream",
          "name": "stdout",
          "text": [
            "\n",
            "\n"
          ]
        },
        {
          "output_type": "display_data",
          "data": {
            "image/png": "[encoded data removed]",
            "text/plain": [
              "<PIL.Image.Image image mode=L size=29x29 at 0x7F3730952BD0>"
            ]
          },
          "metadata": {}
        },
        {
          "output_type": "stream",
          "name": "stdout",
          "text": [
            "\f\n"
          ]
        },
        {
          "output_type": "display_data",
          "data": {
            "image/png": "[encoded data removed]",
            "text/plain": [
              "<PIL.Image.Image image mode=L size=22x22 at 0x7F3730952C10>"
            ]
          },
          "metadata": {}
        }
      ]
    },
    {
      "cell_type": "code",
      "source": [],
      "metadata": {
        "id": "mZf3yUck0pC5"
      },
      "execution_count": null,
      "outputs": []
    },
    {
      "cell_type": "code",
      "source": [],
      "metadata": {
        "id": "YFLGQbnGmb1E"
      },
      "execution_count": null,
      "outputs": []
    },
    {
      "cell_type": "code",
      "source": [],
      "metadata": {
        "id": "nWb4whRLmbvs"
      },
      "execution_count": null,
      "outputs": []
    },
    {
      "cell_type": "code",
      "source": [
        "from skimage.color import rgb2gray\n",
        "from skimage import io\n",
        "\n",
        "def process(image):\n",
        "    \"\"\"\n",
        "    Processes a CAPTCHA by removing noise\n",
        "\n",
        "    Args:\n",
        "        image (str): The file path of the image to process\n",
        "    \"\"\"\n",
        "\n",
        "    input = io.imread(image)\n",
        "    histogram = {}\n",
        "\n",
        "    for x in range(input.shape[0]):\n",
        "        for y in range(input.shape[1]):\n",
        "            pixel = input[x, y]\n",
        "            hex = '%02x%02x%02x' % (pixel[0], pixel[1], pixel[2])\n",
        "\n",
        "            if hex in histogram:\n",
        "                histogram[hex] += 1\n",
        "            else:\n",
        "                histogram[hex] = 1\n",
        "\n",
        "    histogram = sorted(histogram, key = histogram.get, reverse=True)\n",
        "    threshold = len(histogram) * 0.015\n",
        "\n",
        "    for x in range(input.shape[0]):\n",
        "        for y in range(input.shape[1]):\n",
        "            pixel = input[x, y]\n",
        "            hex = '%02x%02x%02x' % (pixel[0], pixel[1], pixel[2])\n",
        "            index = histogram.index(hex)\n",
        "\n",
        "            if index < 3 or index > threshold:\n",
        "                input[x, y] = [255, 255, 255, 255]\n",
        "\n",
        "    input = rgb2gray(~input)\n",
        "    io.imsave(image, input)"
      ],
      "metadata": {
        "id": "Rd7vexavmbm0"
      },
      "execution_count": null,
      "outputs": []
    },
    {
      "cell_type": "code",
      "source": [
        "process('CaptureS2.PNG')"
      ],
      "metadata": {
        "colab": {
          "base_uri": "https://localhost:8080/"
        },
        "id": "K8p8cvx7mdbD",
        "outputId": "ae0958e1-4109-4e25-8b2f-eb43a6dc5be0"
      },
      "execution_count": null,
      "outputs": [
        {
          "output_type": "stream",
          "name": "stderr",
          "text": [
            "/usr/local/lib/python3.7/dist-packages/ipykernel_launcher.py:37: FutureWarning: Non RGB image conversion is now deprecated. For RGBA images, please use rgb2gray(rgba2rgb(rgb)) instead. In version 0.19, a ValueError will be raised if input image last dimension length is not 3.\n",
            "/usr/local/lib/python3.7/dist-packages/ipykernel_launcher.py:38: UserWarning: CaptureS2.PNG is a low contrast image\n",
            "WARNING:root:Lossy conversion from float64 to uint8. Range [0, 1]. Convert image to uint8 prior to saving to suppress this warning.\n"
          ]
        }
      ]
    },
    {
      "cell_type": "code",
      "source": [
        "import cv2\n",
        "import numpy\n",
        "\n",
        "#file = \"pFgR2.jpg\"\n",
        "file = \"cropped6.png\"\n",
        "\n",
        "original = cv2.imread(file)\n",
        "miniature = cv2.resize(original, (100, 100))\n",
        "gray = cv2.cvtColor(miniature, cv2.COLOR_BGR2GRAY)\n",
        "\n",
        "(_ret, threshold) = cv2.threshold(gray, 220, 255, cv2.THRESH_BINARY)\n",
        "\n",
        "# Бинаризация отсекла букву от фона, выделив фон белым.\n",
        "# Нам же нужно обратное.\n",
        "threshold = 255 - threshold\n",
        "\n",
        "(contours, _) = cv2.findContours(threshold, cv2.RETR_LIST, cv2.CHAIN_APPROX_SIMPLE)\n",
        "\n",
        "# Ищем квадрат с буквой.\n",
        "# Задаем начальные максимальные и минимальные координаты квадрата.\n",
        "# Осторожно! Ниже только целочисленные значения от 0 до 255.\n",
        "mins = numpy.array((255, 255), numpy.uint8)\n",
        "maxs = numpy.array((0, 0), numpy.uint8)\n",
        "\n",
        "# Проходимся по квадратам контуров.\n",
        "for rect in contours:\n",
        "    (x, y, w, h)=cv2.boundingRect(rect)\n",
        "    \n",
        "    if x <= 0 or y <= 0:\n",
        "\n",
        "        # «Глобальный» контур охватывает все изображение,\n",
        "        # полностью портя вычисление квадрата с буквой.\n",
        "        continue\n",
        "    \n",
        "    # Обновляем координаты квадрата с буквой с учетом квадрата каждого контура.\n",
        "    maxs = numpy.maximum(maxs, (x + w, y + h))\n",
        "    mins = numpy.minimum(mins, (x, y))\n",
        "    \n",
        "# Теперь мы можем получить итоговое изображение только с буквой.\n",
        "\n",
        "# Если захотите увидеть контуры буквы на итоговом изображении.\n",
        "#cv2.drawContours(miniature, contours, -1, (0, 255, 0), 2)\n",
        "\n",
        "essence = miniature[ mins[1]:maxs[1], mins[0]:maxs[0] ]\n",
        "\n",
        "cv2_imshow(essence)\n",
        "custom_config = r'-l eng --oem 3 --psm 10 -c tessedit_char_whitelist=\"ABCDEFGHIJKLMNOPQRSTUVWXYZabcdefghijklmnopqrstuvwxyz\" '\n",
        "c = pytesseract.image_to_string(essence, config=custom_config)\n",
        "print(c)\n",
        "cv2.waitKey(0)"
      ],
      "metadata": {
        "colab": {
          "base_uri": "https://localhost:8080/",
          "height": 166
        },
        "id": "_wjCS17lsjSm",
        "outputId": "bad2dbc7-d154-43ce-d5a3-e00812694d0b"
      },
      "execution_count": null,
      "outputs": [
        {
          "output_type": "display_data",
          "data": {
            "text/plain": [
              "<PIL.Image.Image image mode=RGB size=55x97 at 0x7FCB7F514E10>"
            ],
            "image/png": "[encoded data removed]"
          },
          "metadata": {}
        },
        {
          "output_type": "stream",
          "name": "stdout",
          "text": [
            "=D\n",
            "\f\n"
          ]
        },
        {
          "output_type": "execute_result",
          "data": {
            "text/plain": [
              "-1"
            ]
          },
          "metadata": {},
          "execution_count": 58
        }
      ]
    },
    {
      "cell_type": "code",
      "source": [
        "import cv2\n",
        "import numpy as np\n",
        "import pytesseract\n",
        "\n",
        "img = cv2.imread(\"cropped15.png\")\n",
        "gray = cv2.cvtColor(img, cv2.COLOR_BGR2GRAY)\n",
        "thresh = cv2.threshold(gray, 127, 255, cv2.THRESH_BINARY_INV + cv2.THRESH_OTSU)[1]\n",
        "\n",
        "items = cv2.findContours(thresh, cv2.RETR_EXTERNAL, cv2.CHAIN_APPROX_SIMPLE)\n",
        "contours = items[0] if len(items) == 2 else items[1]\n",
        "\n",
        "img_contour = img.copy()\n",
        "for i in range(len(contours)):\n",
        "    area = cv2.contourArea(contours[i])\n",
        "    if 100 < area < 10000:\n",
        "        cv2.drawContours(img_contour, contours, i, (0, 0, 255), 2)\n",
        "\n",
        "detected = \"\"\n",
        "for c in contours:\n",
        "    x, y, w, h = cv2.boundingRect(c)\n",
        "    ratio = h/w\n",
        "    area = cv2.contourArea(c)\n",
        "    base = np.ones(thresh.shape, dtype=np.uint8)\n",
        "    if ratio > 0.9 and 100 < area < 10000:\n",
        "        base[y:y+h, x:x+w] = thresh[y:y+h, x:x+w]\n",
        "        segment = cv2.bitwise_not(base)\n",
        "\n",
        "        custom_config = r'-l eng --oem 3 --psm 10 -c tessedit_char_whitelist=\"ABCDEFGHIJKLMNOPQRSTUVWXYZabcdefghijklmnopqrstuvwxyz\" '\n",
        "        c = pytesseract.image_to_string(segment, config=custom_config)\n",
        "        print(c)\n",
        "        detected = detected + c\n",
        "        cv2_imshow(segment)\n",
        "        cv2.waitKey(0)\n",
        "\n",
        "print(\"detected: \" + detected)\n",
        "\n",
        "cv2_imshow(img_contour)\n",
        "\n",
        "cv2.waitKey(0)\n",
        "cv2.destroyAllWindows()"
      ],
      "metadata": {
        "colab": {
          "base_uri": "https://localhost:8080/",
          "height": 230
        },
        "id": "GuxraJVio5Tq",
        "outputId": "bbc68029-c08b-4f4e-efd4-f96001eed0b8"
      },
      "execution_count": null,
      "outputs": [
        {
          "output_type": "stream",
          "name": "stdout",
          "text": [
            "d\n",
            "\f\n"
          ]
        },
        {
          "output_type": "display_data",
          "data": {
            "text/plain": [
              "<PIL.Image.Image image mode=L size=72x72 at 0x7FCB7F661ED0>"
            ],
            "image/png": "[encoded data removed]"
          },
          "metadata": {}
        },
        {
          "output_type": "stream",
          "name": "stdout",
          "text": [
            "detected: d\n",
            "\f\n"
          ]
        },
        {
          "output_type": "display_data",
          "data": {
            "text/plain": [
              "<PIL.Image.Image image mode=RGB size=72x72 at 0x7FCB7F6D40D0>"
            ],
            "image/png": "[encoded data removed]"
          },
          "metadata": {}
        }
      ]
    }
  ]
}