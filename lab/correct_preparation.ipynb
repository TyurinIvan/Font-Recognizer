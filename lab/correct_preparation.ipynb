{
  "nbformat": 4,
  "nbformat_minor": 0,
  "metadata": {
    "colab": {
      "provenance": []
    },
    "kernelspec": {
      "name": "python3",
      "display_name": "Python 3"
    },
    "language_info": {
      "name": "python"
    }
  },
  "cells": [
    {
      "cell_type": "code",
      "execution_count": null,
      "metadata": {
        "colab": {
          "base_uri": "https://localhost:8080/"
        },
        "id": "Zw4nz5mff1SJ",
        "outputId": "103c7df9-858e-4cd6-f80a-21044e997b25"
      },
      "outputs": [
        {
          "output_type": "stream",
          "name": "stdout",
          "text": [
            "Reading package lists... Done\n",
            "Building dependency tree       \n",
            "Reading state information... Done\n",
            "tesseract-ocr is already the newest version (4.00~git2288-10f4998a-2).\n",
            "0 upgraded, 0 newly installed, 0 to remove and 39 not upgraded.\n",
            "Requirement already satisfied: pytesseract in /usr/local/lib/python3.7/dist-packages (0.3.9)\n",
            "Requirement already satisfied: Pillow>=8.0.0 in /usr/local/lib/python3.7/dist-packages (from pytesseract) (9.0.1)\n",
            "Requirement already satisfied: packaging>=21.3 in /usr/local/lib/python3.7/dist-packages (from pytesseract) (21.3)\n",
            "Requirement already satisfied: pyparsing!=3.0.5,>=2.0.2 in /usr/local/lib/python3.7/dist-packages (from packaging>=21.3->pytesseract) (3.0.7)\n"
          ]
        }
      ],
      "source": [
        "!sudo apt install tesseract-ocr\n",
        "!pip install pytesseract\n",
        "\n",
        "import pytesseract\n",
        "import shutil\n",
        "import os\n",
        "import cv2\n",
        "import numpy as np\n",
        "import random\n",
        "from google.colab.patches import cv2_imshow\n",
        "from PIL import Image, ImageEnhance, ImageFilter\n",
        "try:\n",
        " from PIL import Image\n",
        "except ImportError:\n",
        " import Image"
      ]
    },
    {
      "cell_type": "code",
      "source": [
        "import os\n",
        "os.kill(os.getpid(), 9)"
      ],
      "metadata": {
        "id": "sWlIrEk5xSpc"
      },
      "execution_count": null,
      "outputs": []
    },
    {
      "cell_type": "code",
      "execution_count": null,
      "metadata": {
        "id": "zHu6b7ygycdn"
      },
      "outputs": [],
      "source": [
        "picture = np.array(Image.open('alphabet.PNG').convert('L'))"
      ]
    },
    {
      "cell_type": "code",
      "source": [
        "print(picture.shape)"
      ],
      "metadata": {
        "colab": {
          "base_uri": "https://localhost:8080/"
        },
        "id": "bGWI6-3ZzJtd",
        "outputId": "1636ce4b-ca93-4a9d-ab2f-9f5e8ca8e0a2"
      },
      "execution_count": null,
      "outputs": [
        {
          "output_type": "stream",
          "name": "stdout",
          "text": [
            "(42, 568)\n"
          ]
        }
      ]
    },
    {
      "cell_type": "code",
      "source": [
        "import matplotlib.pyplot as plt\n",
        "plt.hist(myHist)"
      ],
      "metadata": {
        "colab": {
          "base_uri": "https://localhost:8080/",
          "height": 334
        },
        "id": "cy8_qjlg0UWW",
        "outputId": "e582d6ad-44ec-4dfb-d624-c2eafd8e4287"
      },
      "execution_count": null,
      "outputs": [
        {
          "output_type": "execute_result",
          "data": {
            "text/plain": [
              "(array([ 2.,  3.,  5.,  1.,  0.,  2.,  0.,  0.,  0., 17.]),\n",
              " array([ 88753. ,  94361.7,  99970.4, 105579.1, 111187.8, 116796.5,\n",
              "        122405.2, 128013.9, 133622.6, 139231.3, 144840. ]),\n",
              " <a list of 10 Patch objects>)"
            ]
          },
          "metadata": {},
          "execution_count": 52
        },
        {
          "output_type": "display_data",
          "data": {
            "text/plain": [
              "<Figure size 432x288 with 1 Axes>"
            ],
            "image/png": "[encoded data removed]"
          },
          "metadata": {
            "needs_background": "light"
          }
        }
      ]
    },
    {
      "cell_type": "code",
      "source": [
        "picture = np.array([[1,2],\n",
        "                    [0,0]])"
      ],
      "metadata": {
        "id": "3UNUAS2D1j_3"
      },
      "execution_count": null,
      "outputs": []
    },
    {
      "cell_type": "code",
      "source": [
        "picture = picture[:34,:]"
      ],
      "metadata": {
        "id": "Ro2pO14W2hGO"
      },
      "execution_count": null,
      "outputs": []
    },
    {
      "cell_type": "code",
      "source": [
        "picture.shape"
      ],
      "metadata": {
        "colab": {
          "base_uri": "https://localhost:8080/"
        },
        "id": "9OAotvEA2ytM",
        "outputId": "0203e828-cf30-48dc-9f57-d5417bfbd37d"
      },
      "execution_count": null,
      "outputs": [
        {
          "output_type": "execute_result",
          "data": {
            "text/plain": [
              "(34, 568)"
            ]
          },
          "metadata": {},
          "execution_count": 54
        }
      ]
    },
    {
      "cell_type": "code",
      "source": [
        "cv2_imshow(picture)"
      ],
      "metadata": {
        "colab": {
          "base_uri": "https://localhost:8080/",
          "height": 51
        },
        "id": "cIowbCq8264N",
        "outputId": "d0555412-83a5-4dc7-f5f3-9be7d0581b3d"
      },
      "execution_count": null,
      "outputs": [
        {
          "output_type": "display_data",
          "data": {
            "text/plain": [
              "<PIL.Image.Image image mode=L size=568x34 at 0x7FD3CD0F9350>"
            ],
            "image/png": "[encoded data removed]"
          },
          "metadata": {}
        }
      ]
    },
    {
      "cell_type": "code",
      "source": [
        "myHist = np.sum(picture, axis=1)"
      ],
      "metadata": {
        "id": "pM0w8yuezT3P"
      },
      "execution_count": null,
      "outputs": []
    },
    {
      "cell_type": "code",
      "source": [
        "np.where(myHist > 95000, 0, 1)"
      ],
      "metadata": {
        "colab": {
          "base_uri": "https://localhost:8080/"
        },
        "id": "h-WgdL71mEIU",
        "outputId": "ba0d5737-be58-48b9-d38b-7b0fc1b9efe8"
      },
      "execution_count": null,
      "outputs": [
        {
          "output_type": "execute_result",
          "data": {
            "text/plain": [
              "array([0, 0, 0, 0, 0, 0, 0, 0, 0, 0, 0, 0, 0, 0, 0, 0, 0, 0, 1, 0, 0, 0,\n",
              "       0, 0, 0, 0, 0, 1, 0, 0, 0, 0, 0, 0, 0, 0, 0, 0, 0, 0, 0, 0])"
            ]
          },
          "metadata": {},
          "execution_count": 22
        }
      ]
    },
    {
      "cell_type": "code",
      "source": [
        "cv2_imshow(picture[19:-14])"
      ],
      "metadata": {
        "colab": {
          "base_uri": "https://localhost:8080/",
          "height": 34
        },
        "id": "0tAnJbvamgTQ",
        "outputId": "94553257-7ada-4249-a22e-1b662af546ce"
      },
      "execution_count": null,
      "outputs": [
        {
          "output_type": "display_data",
          "data": {
            "text/plain": [
              "<PIL.Image.Image image mode=L size=568x9 at 0x7F58BC219A90>"
            ],
            "image/png": "[encoded data removed]"
          },
          "metadata": {}
        }
      ]
    },
    {
      "cell_type": "code",
      "source": [
        "myHist"
      ],
      "metadata": {
        "colab": {
          "base_uri": "https://localhost:8080/"
        },
        "id": "LV9v2ChN2B-N",
        "outputId": "cd4e5766-f52d-44b2-ed49-e7c7d64a6d49"
      },
      "execution_count": null,
      "outputs": [
        {
          "output_type": "execute_result",
          "data": {
            "text/plain": [
              "array([144840, 144840, 144840, 144840, 144840, 144840, 144840, 144840,\n",
              "       144840, 144585, 144585, 144585, 144585, 144585, 140493, 107396,\n",
              "       118949, 120390,  93239,  99535, 103035,  97197, 101825, 103959,\n",
              "       102878, 104522,  99386,  88753, 141200, 141628, 141812, 141135,\n",
              "       144585, 144585, 144840, 144840, 144840, 144840, 144840, 144840,\n",
              "       144840, 144840], dtype=uint64)"
            ]
          },
          "metadata": {},
          "execution_count": 5
        }
      ]
    },
    {
      "cell_type": "code",
      "source": [
        "import matplotlib.pyplot as plt\n",
        "plt.hist(myHist)"
      ],
      "metadata": {
        "colab": {
          "base_uri": "https://localhost:8080/",
          "height": 335
        },
        "outputId": "73d687ff-bdc1-4b7e-88e3-5e7e651f1165",
        "id": "GG7W6911nCgo"
      },
      "execution_count": null,
      "outputs": [
        {
          "output_type": "execute_result",
          "data": {
            "text/plain": [
              "(array([ 2.,  3.,  5.,  1.,  0.,  2.,  0.,  0.,  0., 29.]),\n",
              " array([ 88753. ,  94361.7,  99970.4, 105579.1, 111187.8, 116796.5,\n",
              "        122405.2, 128013.9, 133622.6, 139231.3, 144840. ]),\n",
              " <a list of 10 Patch objects>)"
            ]
          },
          "metadata": {},
          "execution_count": 15
        },
        {
          "output_type": "display_data",
          "data": {
            "text/plain": [
              "<Figure size 432x288 with 1 Axes>"
            ],
            "image/png": "[encoded data removed]"
          },
          "metadata": {
            "needs_background": "light"
          }
        }
      ]
    },
    {
      "cell_type": "code",
      "source": [
        "picture = np.array([[1,2],\n",
        "                    [0,0]])"
      ],
      "metadata": {
        "id": "g3h4Yqz7nCgo"
      },
      "execution_count": null,
      "outputs": []
    },
    {
      "cell_type": "code",
      "source": [
        "myHist[myHist != myHist.max()]"
      ],
      "metadata": {
        "colab": {
          "base_uri": "https://localhost:8080/"
        },
        "id": "CHz3cJVb3hgm",
        "outputId": "829ed697-3fa0-46c8-f38c-d2df02d3244a"
      },
      "execution_count": null,
      "outputs": [
        {
          "output_type": "execute_result",
          "data": {
            "text/plain": [
              "array([144585, 144585, 144585, 144585, 144585, 140493, 107396, 118949,\n",
              "       120390,  93239,  99535, 103035,  97197, 101825, 103959, 102878,\n",
              "       104522,  99386,  88753, 141200, 141628, 141812, 141135, 144585,\n",
              "       144585], dtype=uint64)"
            ]
          },
          "metadata": {},
          "execution_count": 60
        }
      ]
    },
    {
      "cell_type": "code",
      "source": [
        "np.sum(picture, axis=0).max()\n"
      ],
      "metadata": {
        "colab": {
          "base_uri": "https://localhost:8080/"
        },
        "id": "yVU4j_fM07iW",
        "outputId": "1ce51007-e890-4c23-c55d-9d39785490c8"
      },
      "execution_count": null,
      "outputs": [
        {
          "output_type": "execute_result",
          "data": {
            "text/plain": [
              "10710"
            ]
          },
          "metadata": {},
          "execution_count": 18
        }
      ]
    }
  ]
}