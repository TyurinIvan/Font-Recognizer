{
  "cells": [
    {
      "cell_type": "markdown",
      "metadata": {
        "id": "I-TIzBILWb7O"
      },
      "source": [
        "# Font Recognizer"
      ]
    },
    {
      "cell_type": "markdown",
      "metadata": {
        "id": "3vmq_FPcWb7R"
      },
      "source": [
        "*Ivan Tyurin*\n",
        "\n",
        "![cover image](https://github.com/TyurinIvan/Font-Recognizer/blob/main/lab/Font-Recognizer.png?raw=true)\n"
      ]
    },
    {
      "cell_type": "markdown",
      "metadata": {
        "id": "I8QBw5uzWb7T"
      },
      "source": [
        "## Table of Contents\n",
        "\n",
        "### [DataGenerator](../DataGenerator.ipynb)\n",
        "\n",
        "### [1. Classificators](../classificators)\n",
        "- [Contrast Classificator](../classificators/ContrastClassificator.ipynb)\n",
        "- [Non Binary Image Classificator](../classificators/NonBinaryImageClassificator.ipynb)\n",
        "- [Slab Classificator](../classificators/SlabClassificator.ipynb)\n",
        "- [Weight Classificator](../classificators/WeightClassificator.ipnb)\n",
        "- [Width Classificator](../classificators/WidthClassificator.ipynb)\n",
        "\n",
        "### [2. Clickers](../clickers)\n",
        "- [Classification Clicker](../clickers/classClickerClassification.ipynb)\n",
        "- [Contrast Clicker](../clickers/classClickerContrast.ipynb)\n",
        "- [Slab Clicker](../clickers/classClickerSlab.ipynb)\n",
        "- [Weigh Clicker](../clickers/classClickerWeighCorrect.ipynb)\n",
        "- [Width Clicker](../clickers/classClickerWidth.ipynb)\n",
        "\n",
        "### [3. Lab](../lab)\n",
        "- [Introducing Pandas Objects](../lab/03.01-Introducing-Pandas-Objects.ipynb)\n",
        "- [Data Indexing and Selection](../lab/03.02-Data-Indexing-and-Selection.ipynb)\n",
        "- [EMNIS Tesseract Clearing experiments](../lab/EMNISTesseractClear.ipynb)\n",
        "- [Correct Preparation experiments](../lab/correct_preparation.ipynb)\n",
        "\n",
        "### [4. Tests](../test/)\n",
        "- [Overall final test](../test/testAll.ipynb)\n",
        "- [Classification test](../test/testClassification.ipynb)\n",
        "- [Contrast test](../test/testContrast.ipynb)\n",
        "- [Serif-SanSerif test](../test/testSerifSanSerif.ipynb)\n",
        "- [Slab test](../test/testSlab.ipynb)"
      ]
    }
  ],
  "metadata": {
    "anaconda-cloud": {},
    "kernelspec": {
      "display_name": "Python 3",
      "language": "python",
      "name": "python3"
    },
    "language_info": {
      "codemirror_mode": {
        "name": "ipython",
        "version": 3
      },
      "file_extension": ".py",
      "mimetype": "text/x-python",
      "name": "python",
      "nbconvert_exporter": "python",
      "pygments_lexer": "ipython3",
      "version": "3.5.1"
    },
    "colab": {
      "provenance": []
    }
  },
  "nbformat": 4,
  "nbformat_minor": 0
}