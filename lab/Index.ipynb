{
  "cells": [
    {
      "cell_type": "markdown",
      "metadata": {
        "id": "I-TIzBILWb7O"
      },
      "source": [
        "# Font Recognizer"
      ]
    },
    {
      "cell_type": "markdown",
      "metadata": {
        "id": "3vmq_FPcWb7R"
      },
      "source": [
        "*Ivan Tyurin*\n",
        "\n",
        "![cover image](../lab/Font-Recognizer.png)\n"
      ]
    },
    {
      "cell_type": "markdown",
      "metadata": {
        "id": "I8QBw5uzWb7T"
      },
      "source": [
        "## Table of Contents\n",
        "\n",
        "### [DataGenerator](DataGenerator.ipynb)\n",
        "\n",
        "### [1. Classificators](../classificators)\n",
        "- [Contrast Classificator](../classificators/ContrastClassificator.ipynb)\n",
        "- [Non Binary Image Classificator](../classificators/NonBinaryImageClassificator.ipynb)\n",
        "- [Slab Classificator](../classificators/SlabClassificator.ipynb)\n",
        "- [Weight Classificator](../classificators/WeightClassificator.ipnb)\n",
        "- [Width Classificator](../classificators/WidthClassificator.ipynb)\n",
        "\n",
        "### [2. Clickers](02.00-Introduction-to-NumPy.ipynb)\n",
        "- [Classification Clicker](classClickerClassification.ipynb)\n",
        "- [Contrast Clicker](classClickerContrast.ipynb)\n",
        "- [Slab Clicker](classClickerSlab.ipynb)\n",
        "- [Weigh Clicker](classClickerWeighCorrect.ipynb)\n",
        "- [Width Clicker](classClickerWidth.ipynb)\n",
        "\n",
        "### [3. Lab](03.00-Introduction-to-Pandas.ipynb)\n",
        "- [Introducing Pandas Objects](03.01-Introducing-Pandas-Objects.ipynb)\n",
        "- [Data Indexing and Selection](03.02-Data-Indexing-and-Selection.ipynb)\n",
        "- [EMNIS Tesseract Clearing experiments](EMNISTesseractClear.ipynb)\n",
        "- [Correct Preparation experiments](correct_preparation.ipynb)\n",
        "\n",
        "### [4. Tests](04.00-Introduction-To-Matplotlib.ipynb)\n",
        "- [Overall final test](testAll.ipynb)\n",
        "- [Classification test](testClassification.ipynb)\n",
        "- [Contrast test](testContrast.ipynb)\n",
        "- [Serif-SanSerif test](testSerifSanSerif.ipynb)\n",
        "- [Slab test](testSlab.ipynb)"
      ]
    }
  ],
  "metadata": {
    "anaconda-cloud": {},
    "kernelspec": {
      "display_name": "Python 3",
      "language": "python",
      "name": "python3"
    },
    "language_info": {
      "codemirror_mode": {
        "name": "ipython",
        "version": 3
      },
      "file_extension": ".py",
      "mimetype": "text/x-python",
      "name": "python",
      "nbconvert_exporter": "python",
      "pygments_lexer": "ipython3",
      "version": "3.5.1"
    },
    "colab": {
      "provenance": []
    }
  },
  "nbformat": 4,
  "nbformat_minor": 0
}